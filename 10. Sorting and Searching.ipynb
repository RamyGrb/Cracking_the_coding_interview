{
 "cells": [
  {
   "cell_type": "markdown",
   "metadata": {},
   "source": [
    "### 10.1 Sorted Merge\n",
    "You are given two sorted arrays, A and B, where A has a large enough buffer at the\n",
    "end to hold B. Write a method to merge B into A in sorted order."
   ]
  },
  {
   "cell_type": "code",
   "execution_count": 2,
   "metadata": {},
   "outputs": [],
   "source": [
    "# O(n+m) runtime - O(1) memory if we leftpop from B instead of iterating with a dequeue\n",
    "def sorted_merge(A,B):\n",
    "    i = j = 0\n",
    "    while i < len(B) and j < len(A):\n",
    "        if B[i] < A[j]:\n",
    "            A.insert(j,B[i])\n",
    "            i += 1\n",
    "        else:\n",
    "            j += 1\n",
    "    while i < len(B):\n",
    "        A.append(B[i])\n",
    "        i += 1"
   ]
  },
  {
   "cell_type": "code",
   "execution_count": 3,
   "metadata": {},
   "outputs": [
    {
     "data": {
      "text/plain": [
       "[1, 1, 2, 3, 4, 6, 7, 8, 9, 10, 12, 13, 15]"
      ]
     },
     "execution_count": 3,
     "metadata": {},
     "output_type": "execute_result"
    }
   ],
   "source": [
    "A = [1,4,6,7,9,12]\n",
    "B = [1,2,3,8,10,13,15]\n",
    "sorted_merge(A,B)\n",
    "A"
   ]
  },
  {
   "cell_type": "markdown",
   "metadata": {},
   "source": [
    "### 10.2 Group Anagrams\n",
    "Write a method to sort an array of strings so that all the anagrams are next to each other."
   ]
  },
  {
   "cell_type": "code",
   "execution_count": 55,
   "metadata": {},
   "outputs": [],
   "source": [
    "# O(nb letters + nb strings) runtime - O(nb strings) memry\n",
    "   \n",
    "def count_char(s):\n",
    "    count = {}\n",
    "    for char in s.lower():\n",
    "        if char not in [' ','!','?','.',',']:\n",
    "            if char in count:\n",
    "                count[char] += 1\n",
    "            else:\n",
    "                count[char] = 1\n",
    "    return count\n",
    "\n",
    "def group_anag(strings):\n",
    "    # pop each string from strings\n",
    "    count_list = {}\n",
    "    while strings:\n",
    "        s = strings.pop()\n",
    "        # lower it and count letters            \n",
    "        count = count_char(s)\n",
    "        \n",
    "        # check if it is an anagram and append it to the list if so\n",
    "        found = False\n",
    "        for key in count_list:\n",
    "            if count_list[key] == count:\n",
    "                del count_list[key]\n",
    "                key = key + (s,)\n",
    "                count_list[key] = count\n",
    "                found = True\n",
    "                break\n",
    "        if not found:\n",
    "            count_list[(s,)] = count\n",
    "    \n",
    "    group_an = []\n",
    "    for key in count_list:\n",
    "        group_an.extend(list(key))\n",
    "    \n",
    "    return group_an"
   ]
  },
  {
   "cell_type": "code",
   "execution_count": 57,
   "metadata": {},
   "outputs": [
    {
     "data": {
      "text/plain": [
       "['I am lord voldemort',\n",
       " 'tom elvis jedusor',\n",
       " 'I am the best coder',\n",
       " 'who is the boss',\n",
       " 'harry potter',\n",
       " 'a rana MG',\n",
       " 'nag a ram',\n",
       " 'anagram']"
      ]
     },
     "execution_count": 57,
     "metadata": {},
     "output_type": "execute_result"
    }
   ],
   "source": [
    "strings = ['anagram','nag a ram','harry potter','who is the boss','a rana MG','I am the best coder','tom elvis jedusor','I am lord voldemort']\n",
    "group_anag(strings)"
   ]
  },
  {
   "cell_type": "markdown",
   "metadata": {},
   "source": [
    "### 10.3 Search in Rotated Array\n",
    "Given a sorted array of n integers that has been rotated an unknown number of times, write code to find an element in the array. You may assume that the array was originally sorted in increasing order."
   ]
  },
  {
   "cell_type": "code",
   "execution_count": 94,
   "metadata": {},
   "outputs": [],
   "source": [
    "# O(logn) runtime - O(1) memory\n",
    "\n",
    "def search_end(array,n,first,last):\n",
    "    mid = first + len(array[first:last])//2\n",
    "    \n",
    "    if n == array[mid]:\n",
    "        return mid\n",
    "        \n",
    "    elif n < array[mid]:\n",
    "        return search_end(array,n,first,mid)\n",
    "        \n",
    "    elif n > array[mid] and array[mid] > array[0]:\n",
    "        return search_end(array,n,mid,last)\n",
    "    \n",
    "    elif n > array[mid] and array[mid] < array[0]:\n",
    "        return search_end(array,n,first,mid)\n",
    "        \n",
    "def search_beg(array,n,first,last):\n",
    "    mid = first + len(array[first:last])//2\n",
    "    \n",
    "    if n == array[mid]:\n",
    "        return mid\n",
    "    \n",
    "    elif n > array[mid]:\n",
    "        return search_beg(array,n,mid,last)\n",
    "    \n",
    "    elif n < array[mid] and array[mid] > array[0]:\n",
    "        return search_beg(array,n,mid,last)\n",
    "    \n",
    "    else:\n",
    "        return search_beg(array,n,first,mid)\n",
    "    \n",
    "def search_rot(array, n):\n",
    "    first = 0\n",
    "    last = len(array)\n",
    "    if n == array[first]:\n",
    "        return 0\n",
    "    elif n > array[first]:\n",
    "        return search_end(array,n,first,last)\n",
    "    else:\n",
    "        return search_beg(array,n,first,last)"
   ]
  },
  {
   "cell_type": "code",
   "execution_count": 97,
   "metadata": {},
   "outputs": [
    {
     "data": {
      "text/plain": [
       "[0, 1, 2, 3, 4, 5, 6, 7, 8, 9, 10, 11]"
      ]
     },
     "execution_count": 97,
     "metadata": {},
     "output_type": "execute_result"
    }
   ],
   "source": [
    "array = [15,16,19,20,25,1,3,4,5,7,10,14]\n",
    "n = 3\n",
    "[search_rot(array,n) for n in array]"
   ]
  },
  {
   "cell_type": "markdown",
   "metadata": {},
   "source": [
    "### 10.4 Sorted Search, No Size:\n",
    "You are given an array-like data structure Listy which lacks a size method. It does, however, have an element At(i) method that returns the element at index i in 0(1) time. If i is beyond the bounds of the data structure, it returns -1. (For this reason, the data structure only supports positive integers.) Given a Listy which contains sorted, positive integers, find the index at which an element x occurs. If x occurs multiple times, you may return any index."
   ]
  },
  {
   "cell_type": "code",
   "execution_count": null,
   "metadata": {},
   "outputs": [],
   "source": [
    "# find approximation of max size index\n",
    "# search in the list up to that index"
   ]
  },
  {
   "cell_type": "markdown",
   "metadata": {},
   "source": [
    "### 10.5 Sparse Search: \n",
    "Given a sorted array of strings that is interspersed with empty strings, write a method to find the location of a given string."
   ]
  },
  {
   "cell_type": "code",
   "execution_count": 100,
   "metadata": {},
   "outputs": [],
   "source": [
    "# O(n) runtime - O(1) memory\n",
    "\n",
    "def sparse_search(strings,s):\n",
    "    for i,string in enumerate(strings):\n",
    "        if s == string:\n",
    "            return i\n",
    "    raise SystemError('string not in the array')"
   ]
  },
  {
   "cell_type": "code",
   "execution_count": 101,
   "metadata": {},
   "outputs": [
    {
     "data": {
      "text/plain": [
       "6"
      ]
     },
     "execution_count": 101,
     "metadata": {},
     "output_type": "execute_result"
    }
   ],
   "source": [
    "strings = ['this','is','','','the','','time','of my','','life','']\n",
    "s = 'time'\n",
    "sparse_search(strings,s)"
   ]
  },
  {
   "cell_type": "markdown",
   "metadata": {},
   "source": [
    "### 10.6 Sort Big File:\n",
    "Imagine you have a 20 GB file with one string per line. Explain how you would sort the file."
   ]
  },
  {
   "cell_type": "markdown",
   "metadata": {},
   "source": [
    "> I would create chunks of smaller sizes and sort those chunks."
   ]
  },
  {
   "cell_type": "markdown",
   "metadata": {},
   "source": [
    "### 10.7 Missing Int\n",
    "Given an input file with four billion non-negative integers, provide an algorithm to generate an integer that is not contained in the file.\n",
    "Assume you have 1 GB of memory available for this task."
   ]
  },
  {
   "cell_type": "markdown",
   "metadata": {},
   "source": [
    "### 10.8 Find Duplicates\n",
    "You have an array with all the numbers from 1to N, where Nis at most 32,000.The array may have duplicate entries and you do not know what N is. With only 4 kilobytes of memory available, how would you print all duplicate elements in the array?"
   ]
  },
  {
   "cell_type": "markdown",
   "metadata": {},
   "source": [
    "### 10.9 Sorted Matrix Search\n",
    "Given an M x N matrix in which each row and each column is sorted in ascending order, write a method to find an element."
   ]
  },
  {
   "cell_type": "code",
   "execution_count": 128,
   "metadata": {},
   "outputs": [],
   "source": [
    "# O(logn + logm) runtime - O(1) memory\n",
    "\n",
    "def matrix_search(matrix,i):\n",
    "    matrix = np.array(matrix)\n",
    "    m,n = matrix.shape\n",
    "    i_n = find_pos(matrix[0,:],i)\n",
    "    j_n = find_pos(matrix[:,i_n],i)\n",
    "    return i_n,j_n\n",
    "\n",
    "def find_pos(array,i):\n",
    "    if len(array) == 1:\n",
    "        return 0\n",
    "    mid = len(array)//2\n",
    "    if i == array[mid]:\n",
    "        return mid\n",
    "    elif i > array[mid]:\n",
    "        return mid + find_pos(array[mid:],i)\n",
    "    else:\n",
    "        return find_pos(array[:mid],i)"
   ]
  },
  {
   "cell_type": "code",
   "execution_count": 127,
   "metadata": {},
   "outputs": [
    {
     "data": {
      "text/plain": [
       "(1, 1)"
      ]
     },
     "execution_count": 127,
     "metadata": {},
     "output_type": "execute_result"
    }
   ],
   "source": [
    "matrix = [[5,23,62],[15,25,70],[88,103,220]]\n",
    "i = 25\n",
    "matrix_search(matrix,i)"
   ]
  },
  {
   "cell_type": "markdown",
   "metadata": {},
   "source": [
    "# 10.10 Rank from Stream\n",
    "\n",
    "Imagine you are reading in a stream of integers. Periodically, you wish to be able to look up the rank of a number x (the number of values less than or equal to x). <br>Implement the data structures and algorithms to support these operations.That is, implement the method track (in t x), which is called when each number is generated, and the method getRankOfNumber(int x) , which returns the number of values less than or equal to X (not including x itself)."
   ]
  },
  {
   "cell_type": "code",
   "execution_count": 245,
   "metadata": {},
   "outputs": [],
   "source": [
    "# O(nlogn runtime for track and O(logn) for get_rank - O(n) memory\n",
    "\n",
    "class Node():\n",
    "    def __init__(self,value):\n",
    "        self.value = value\n",
    "        self.left = None\n",
    "        self.right = None\n",
    "\n",
    "def array_to_node(sorted_array):\n",
    "    if len(sorted_array)==0:\n",
    "        return None\n",
    "    mid = len(sorted_array)//2\n",
    "    node = Node(sorted_array[mid])\n",
    "    node.left = array_to_node(sorted_array[:mid])\n",
    "    node.right = array_to_node(sorted_array[mid+1:])\n",
    "    return node\n",
    "\n",
    "def get_rank_tree(x,tree):\n",
    "    rank = 0\n",
    "    if not tree:\n",
    "        return 0\n",
    "    else:\n",
    "        if tree.left:\n",
    "            rank += get_rank_tree(x,tree.left)\n",
    "        if x < tree.value:\n",
    "            return rank\n",
    "        else:\n",
    "            rank += 1\n",
    "        if tree.right:\n",
    "            rank += get_rank_tree(x,tree.right)\n",
    "    return rank\n",
    "\n",
    "def DFS(tree):\n",
    "    if tree:\n",
    "        if tree.left:\n",
    "            DFS(tree.left)\n",
    "        print(tree.value)\n",
    "        if tree.right:\n",
    "            DFS(tree.right)\n",
    "            \n",
    "def merge_sort(array):\n",
    "    if len(array) > 1:\n",
    "        mid = len(array)//2\n",
    "        array1 = array[:mid]\n",
    "        merge_sort(array1)\n",
    "        array2 = array[mid:]\n",
    "        merge_sort(array2)\n",
    "        i = j = k = 0\n",
    "        while i<len(array1) and j<len(array2):\n",
    "            if array1[i] < array2[j]:\n",
    "                array[k] = array1[i]\n",
    "                i += 1\n",
    "            else:\n",
    "                array[k] = array2[j]\n",
    "                j += 1\n",
    "            k += 1\n",
    "        while i<len(array1):\n",
    "            array[k] = array1[i]\n",
    "            k += 1\n",
    "            i += 1\n",
    "        while j<len(array2):\n",
    "            array[k] = array2[j]\n",
    "            k += 1\n",
    "            j += 1\n",
    "\n",
    "class int_stream():\n",
    "    def __init__(self,array):\n",
    "        merge_sort(array)\n",
    "        self.tree = array_to_node(array)\n",
    "        \n",
    "    def track(self,x):\n",
    "        tree = self.tree\n",
    "        while tree:\n",
    "            if x > tree.value:\n",
    "                parent_tree = tree\n",
    "                tree = tree.right\n",
    "                continue\n",
    "            if x <= tree.value:\n",
    "                parent_tree = tree\n",
    "                tree = tree.left\n",
    "                continue\n",
    "        if x > parent_tree.value:\n",
    "            parent_tree.right = Node(x)\n",
    "        if x <= parent_tree.value:\n",
    "            parent_tree.left = Node(x)\n",
    "            \n",
    "    def get_rank(self,x):\n",
    "        return get_rank_tree(x,self.tree)"
   ]
  },
  {
   "cell_type": "code",
   "execution_count": 246,
   "metadata": {
    "scrolled": true
   },
   "outputs": [
    {
     "name": "stdout",
     "output_type": "stream",
     "text": [
      "1\n",
      "2\n",
      "3\n",
      "4\n",
      "4\n",
      "5\n",
      "5\n",
      "7\n",
      "9\n",
      "13\n"
     ]
    }
   ],
   "source": [
    "stream = int_stream([5,1,4,4,5,9,7,13,3])\n",
    "stream.track(2)\n",
    "DFS(stream.tree)"
   ]
  },
  {
   "cell_type": "code",
   "execution_count": 247,
   "metadata": {},
   "outputs": [
    {
     "data": {
      "text/plain": [
       "[1, 5, 8]"
      ]
     },
     "execution_count": 247,
     "metadata": {},
     "output_type": "execute_result"
    }
   ],
   "source": [
    "[stream.get_rank(i) for i in [1,4,7]] # [1, 5, 8]"
   ]
  },
  {
   "cell_type": "markdown",
   "metadata": {},
   "source": [
    "### 10.11 Peaks and Valleys\n",
    "In an array of integers, a \"peak\" is an element which is greater than or equal to the adjacent integers and a \"valley\" is an element which is less than or equal to the adjacent inte- gers. <br> For example, in the array {5, 8, 6, 2, 3, 4, 6}, {8, 6} are peaks and {5, 2} are valleys. Given an array of integers, sort the array into an alternating sequence of peaks and valleys."
   ]
  },
  {
   "cell_type": "code",
   "execution_count": 249,
   "metadata": {},
   "outputs": [],
   "source": [
    "def alternate(array):\n",
    "    i = 0\n",
    "    peak = True\n",
    "    while i <len(array)-1:\n",
    "        if peak:\n",
    "            if array[i+1] < array[i]:\n",
    "                i += 1\n",
    "            else:\n",
    "                array[i+1],array[i] = array[i],array[i+1]\n",
    "                i += 1\n",
    "            peak = False\n",
    "        else:\n",
    "            if array[i+1] > array[i]:\n",
    "                i += 1\n",
    "            else:\n",
    "                array[i+1],array[i] = array[i],array[i+1]\n",
    "                i += 1\n",
    "            peak = True"
   ]
  },
  {
   "cell_type": "code",
   "execution_count": 250,
   "metadata": {},
   "outputs": [
    {
     "data": {
      "text/plain": [
       "[5, 1, 3, 2, 3]"
      ]
     },
     "execution_count": 250,
     "metadata": {},
     "output_type": "execute_result"
    }
   ],
   "source": [
    "array = [5,3,1,2,3]\n",
    "alternate(array)\n",
    "array"
   ]
  },
  {
   "cell_type": "code",
   "execution_count": null,
   "metadata": {},
   "outputs": [],
   "source": []
  }
 ],
 "metadata": {
  "kernelspec": {
   "display_name": "Python 3",
   "language": "python",
   "name": "python3"
  },
  "language_info": {
   "codemirror_mode": {
    "name": "ipython",
    "version": 3
   },
   "file_extension": ".py",
   "mimetype": "text/x-python",
   "name": "python",
   "nbconvert_exporter": "python",
   "pygments_lexer": "ipython3",
   "version": "3.6.8"
  }
 },
 "nbformat": 4,
 "nbformat_minor": 2
}
