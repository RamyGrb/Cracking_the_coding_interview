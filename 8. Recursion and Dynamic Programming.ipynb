{
 "cells": [
  {
   "cell_type": "markdown",
   "metadata": {},
   "source": [
    "### 8.1 Triple Step\n",
    "A child is running up a staircase with n steps and can hop either 1 step, 2 steps, or 3 steps at a time. Implement a method to count how many possible ways the child can run up the stairs."
   ]
  },
  {
   "cell_type": "code",
   "execution_count": 6,
   "metadata": {},
   "outputs": [],
   "source": [
    "# O(n) runtime and O(n) memory\n",
    "def triple_step(n):\n",
    "    count = 0\n",
    "    if n == 0:\n",
    "        return 1\n",
    "    if n >= 1:\n",
    "        count += triple_step(n-1)\n",
    "    if n >= 2:\n",
    "        count += triple_step(n-2)\n",
    "    if n >= 3:\n",
    "        count += triple_step(n-3)\n",
    "    return count\n",
    "\n",
    "# O(n) runtime and optimized O(n) memory with hashtable"
   ]
  },
  {
   "cell_type": "code",
   "execution_count": 5,
   "metadata": {},
   "outputs": [
    {
     "data": {
      "text/plain": [
       "[(0, 1), (1, 1), (2, 2), (3, 4), (4, 7)]"
      ]
     },
     "execution_count": 5,
     "metadata": {},
     "output_type": "execute_result"
    }
   ],
   "source": [
    "[(i,triple_step(i)) for i in range(5)]"
   ]
  },
  {
   "cell_type": "markdown",
   "metadata": {},
   "source": [
    "### 8.2 Robot in a Grid\n",
    "Imagine a robot sitting on the upper left corner of grid with r rows and c columns. The robot can only move in two directions, right and down, but certain cells are \"off limits\" such that the robot cannot step on them. Design an algorithm to find a path for the robot from the top left to the bottom right."
   ]
  },
  {
   "cell_type": "code",
   "execution_count": 7,
   "metadata": {},
   "outputs": [],
   "source": [
    "def path(grid):\n",
    "    i = j = 0\n",
    "    path = []\n",
    "    while grid[i+1][j] != 'off' and grid[i][j+1] != 'off':\n",
    "        if grid[i+1][j] != 'Not possible':\n",
    "            i += 1\n",
    "            path.append('right')\n",
    "        else:\n",
    "            j += 1\n",
    "            path.append('down')\n",
    "    return path"
   ]
  },
  {
   "cell_type": "markdown",
   "metadata": {},
   "source": [
    "### 8.3 Magic Index\n",
    "A magic index in an array A[0... n-1] is defined to be an index such that A[i] = i. Given a sorted array of distinct integers, write a method to find a magic index, if one exists, in array A. What if values are not distinct?"
   ]
  },
  {
   "cell_type": "code",
   "execution_count": 10,
   "metadata": {},
   "outputs": [],
   "source": [
    "def magic_index(A):\n",
    "    for i,a in enumerate(A):\n",
    "        if i == a:\n",
    "            return i\n",
    "    return None"
   ]
  },
  {
   "cell_type": "code",
   "execution_count": 11,
   "metadata": {},
   "outputs": [
    {
     "data": {
      "text/plain": [
       "2"
      ]
     },
     "execution_count": 11,
     "metadata": {},
     "output_type": "execute_result"
    }
   ],
   "source": [
    "A = [-1,-1,2,3,4,7,8,23]\n",
    "magic_index(A)"
   ]
  },
  {
   "cell_type": "markdown",
   "metadata": {},
   "source": [
    "### 8.4 Power Set\n",
    "Write a method to return all subsets of a set. "
   ]
  },
  {
   "cell_type": "code",
   "execution_count": 106,
   "metadata": {},
   "outputs": [],
   "source": [
    "import copy\n",
    "\n",
    "# O(n*2^(n-1)) runtime - O(2^n) memory\n",
    "def power_set(Set):\n",
    "    subsets=[set()]\n",
    "    while Set:\n",
    "        i = Set.pop()\n",
    "        new_subsets = copy.deepcopy(subsets)\n",
    "        for s in new_subsets:\n",
    "            s.add(i)\n",
    "        subsets.extend(new_subsets)\n",
    "    return subsets\n",
    "\n",
    "# Recursive\n",
    "def power_set(Set):\n",
    "    if not Set:\n",
    "        return [set()]\n",
    "    new_Set = Set.copy()\n",
    "    i = new_Set.pop()\n",
    "    subsets = power_set(new_Set)\n",
    "    new_subsets = copy.deepcopy(subsets)\n",
    "    [s.add(i) for s in subsets]\n",
    "    new_subsets.extend([s for s in subsets])\n",
    "    return new_subsets"
   ]
  },
  {
   "cell_type": "code",
   "execution_count": 109,
   "metadata": {
    "scrolled": true
   },
   "outputs": [
    {
     "data": {
      "text/plain": [
       "[set(), {3}, {2}, {2, 3}, {1}, {1, 3}, {1, 2}, {1, 2, 3}]"
      ]
     },
     "execution_count": 109,
     "metadata": {},
     "output_type": "execute_result"
    }
   ],
   "source": [
    "Set = {1,2,3}\n",
    "power_set(Set)"
   ]
  },
  {
   "cell_type": "markdown",
   "metadata": {},
   "source": [
    "### 8.5 Recursive Multiply\n",
    "Write a recursive function to multiply two positive integers without using\n",
    "the * operator (or / operator)"
   ]
  },
  {
   "cell_type": "code",
   "execution_count": 115,
   "metadata": {},
   "outputs": [],
   "source": [
    "# Bruteforce: O(min(n,m)) runtime - O(min(n,m)) memory\n",
    "def multiply(n,m):\n",
    "    if m>n:\n",
    "        n,m = m,n\n",
    "    if m == 0:\n",
    "        return 0\n",
    "    elif m == 1:\n",
    "        return n        \n",
    "    return n + multiply(n,m-1)\n",
    "    \n",
    "# I could optimize it by dividing m by 2 and sum both recursive results, \n",
    "# But I cannot use division so I can't use modulo or anything like that\n",
    "\n"
   ]
  },
  {
   "cell_type": "markdown",
   "metadata": {},
   "source": [
    "### 8.6 Towers of Hanoi\n",
    "You have 3 towers and N disks of different sizes which can slide onto any tower. The puzzle starts with disks sorted in ascending order of size from top to bottom (Le., each disk sits on top of an even larger one). You have the following constraints:\n",
    "(1) Only one disk can be moved at a time.\n",
    "(2) A disk is slid off the top of one tower onto another tower.\n",
    "(3) A disk cannot be placed on top of a smaller disk.\n",
    "Write a program to move the disks from the first tower to the last using stacks."
   ]
  },
  {
   "cell_type": "code",
   "execution_count": 216,
   "metadata": {},
   "outputs": [],
   "source": [
    "def towers(n,plateau,orig,dest,mid): \n",
    "    if n>0:\n",
    "        towers(n-1,plateau,orig,mid,dest)\n",
    "        base = plateau[orig].pop()\n",
    "        plateau[dest].append(base)\n",
    "        towers(n-1,plateau,mid,dest,orig)"
   ]
  },
  {
   "cell_type": "code",
   "execution_count": 219,
   "metadata": {},
   "outputs": [
    {
     "data": {
      "text/plain": [
       "[[], [], [4, 3, 2, 1]]"
      ]
     },
     "execution_count": 219,
     "metadata": {},
     "output_type": "execute_result"
    }
   ],
   "source": [
    "array = [4,3,2,1]\n",
    "n = len(array)\n",
    "plateau=[array,[],[]]\n",
    "towers(n,plateau,0,2,1)\n",
    "plateau"
   ]
  },
  {
   "cell_type": "markdown",
   "metadata": {},
   "source": [
    "### 8.7 Permutations without Dups\n",
    "Write a method to compute all permutations of a string of unique characters."
   ]
  },
  {
   "cell_type": "code",
   "execution_count": 373,
   "metadata": {},
   "outputs": [],
   "source": [
    "def find_rest(c,string):\n",
    "    string_rest = []\n",
    "    found = False\n",
    "    for char in string:\n",
    "        if char != c:\n",
    "            string_rest.append(char)\n",
    "        elif found:\n",
    "            string_rest.append(char)\n",
    "        else:\n",
    "            found = True                     \n",
    "    string_rest = ''.join(string_rest)\n",
    "    return string_rest\n",
    "        \n",
    "def add_to_perm(c,sub_permutations,all_permutations):\n",
    "    for s in sub_permutations:\n",
    "        s = list(s)\n",
    "        s.append(c)\n",
    "        s = ''.join(s)\n",
    "        all_permutations.append(s)        \n",
    "\n",
    "def permutations(string):\n",
    "    if len(string)==1:\n",
    "        return [string]\n",
    "    \n",
    "    all_permutations = []\n",
    "    \n",
    "    for c in string:\n",
    "    \n",
    "        # create string_rest\n",
    "        string_rest = find_rest(c,string)\n",
    "                \n",
    "        # Create permutations in string_rest\n",
    "        sub_permutations = permutations(string_rest)\n",
    "        \n",
    "        # Add c to all permutations and append them to all_perm\n",
    "        add_to_perm(c,sub_permutations,all_permutations)\n",
    "        \n",
    "    return all_permutations\n"
   ]
  },
  {
   "cell_type": "code",
   "execution_count": 374,
   "metadata": {},
   "outputs": [
    {
     "data": {
      "text/plain": [
       "['cba', 'bca', 'cab', 'acb', 'bac', 'abc']"
      ]
     },
     "execution_count": 374,
     "metadata": {},
     "output_type": "execute_result"
    }
   ],
   "source": [
    "permutations('abc')"
   ]
  },
  {
   "cell_type": "markdown",
   "metadata": {},
   "source": [
    "### 8.8 Permutations with Dups\n",
    "Write a method to compute all permutations of a string whose charac- ters are not necessarily unique. The list of permutations should not have duplicates."
   ]
  },
  {
   "cell_type": "code",
   "execution_count": 375,
   "metadata": {},
   "outputs": [],
   "source": [
    "def find_rest(c,string):\n",
    "    string_rest = []\n",
    "    found = False\n",
    "    for char in string:\n",
    "        if char != c:\n",
    "            string_rest.append(char)\n",
    "        elif found:\n",
    "            string_rest.append(char)\n",
    "        else:\n",
    "            found = True                     \n",
    "    string_rest = ''.join(string_rest)\n",
    "    return string_rest\n",
    "        \n",
    "def add_to_perm(c,sub_permutations,all_permutations):\n",
    "    for s in sub_permutations:\n",
    "        s = list(s)\n",
    "        s.append(c)\n",
    "        s = ''.join(s)\n",
    "        all_permutations.append(s)        \n",
    "\n",
    "def permutations_without_dups(string):\n",
    "    if len(string)==1:\n",
    "        return [string]    \n",
    "    visited = set()\n",
    "    all_permutations = []\n",
    "    \n",
    "    for c in string:\n",
    "        if c not in visited:          \n",
    "            visited.add(c)\n",
    "            string_rest = find_rest(c,string)\n",
    "            sub_permutations = permutations_without_dups(string_rest)\n",
    "            add_to_perm(c,sub_permutations,all_permutations)\n",
    "    return all_permutations"
   ]
  },
  {
   "cell_type": "code",
   "execution_count": 376,
   "metadata": {},
   "outputs": [
    {
     "data": {
      "text/plain": [
       "['tset',\n",
       " 'stet',\n",
       " 'test',\n",
       " 'etst',\n",
       " 'sett',\n",
       " 'estt',\n",
       " 'tste',\n",
       " 'stte',\n",
       " 'ttse',\n",
       " 'tets',\n",
       " 'etts',\n",
       " 'ttes']"
      ]
     },
     "execution_count": 376,
     "metadata": {},
     "output_type": "execute_result"
    }
   ],
   "source": [
    "permutations_without_dups('test')"
   ]
  },
  {
   "cell_type": "markdown",
   "metadata": {},
   "source": [
    "### 8.9 Parents\n",
    "Implement an algorithm to print all valid (e.g., properly opened and closed) combinations of n pairs of parentheses."
   ]
  },
  {
   "cell_type": "code",
   "execution_count": 466,
   "metadata": {},
   "outputs": [],
   "source": [
    "### O(n) runtime - O(2^n)\n",
    "def parens(n,string = '',left = None, right = None, result = []):\n",
    "    \n",
    "    if left == None and right == None:\n",
    "        left = right = n\n",
    "        \n",
    "    if left == 0 and right == 0:\n",
    "        result.append(string)\n",
    "        \n",
    "    if left > 0:\n",
    "        parens(n,string + '(',left-1,right, result)\n",
    "        \n",
    "    if left < right:\n",
    "        parens(n,string + ')',left,right-1,result)\n",
    "        \n",
    "    return result"
   ]
  },
  {
   "cell_type": "code",
   "execution_count": 467,
   "metadata": {},
   "outputs": [
    {
     "data": {
      "text/plain": [
       "['((()))', '(()())', '(())()', '()(())', '()()()']"
      ]
     },
     "execution_count": 467,
     "metadata": {},
     "output_type": "execute_result"
    }
   ],
   "source": [
    "parens(3)"
   ]
  },
  {
   "cell_type": "markdown",
   "metadata": {},
   "source": [
    "### 8.10 Paint Fill\n",
    "Implement the \"paint fill\" function that one might see on many image editing programs. That is, given a screen (represented by a two-dimensional array of colors), a point, and a new color, fill in the surrounding area until the color changes from the original color.\n"
   ]
  },
  {
   "cell_type": "code",
   "execution_count": 2,
   "metadata": {},
   "outputs": [],
   "source": [
    "# O(n) runtime - O(1) memory\n",
    "\n",
    "import numpy as np\n",
    "\n",
    "def fill(array,point,color):\n",
    "    i = point[0]\n",
    "    j = point[1]\n",
    "    if array[i,j] != color:\n",
    "        array[i,j] = color\n",
    "        paint_fill(array,(i-1,j),color)\n",
    "        paint_fill(array,(i+1,j),color)\n",
    "        paint_fill(array,(i,j-1),color)\n",
    "        paint_fill(array,(i,j+1),color)\n",
    "        \n",
    "def paint_fill(array,point,color):\n",
    "    array = np.array(array)\n",
    "    fill(array,point,color)"
   ]
  },
  {
   "cell_type": "markdown",
   "metadata": {},
   "source": [
    "### 8.11 Coins\n",
    "Given an infinite number of quarters (25 cents), dimes (10 cents), nickels (5 cents), and pennies (1 cent), write code to calculate the number of ways of representing n cents."
   ]
  },
  {
   "cell_type": "code",
   "execution_count": 161,
   "metadata": {},
   "outputs": [],
   "source": [
    "# O(n*m) runtime - O(n) memory\n",
    "def combinations(n,coins,current=0):\n",
    "    if n < 0:\n",
    "        return 0\n",
    "    elif coins[current]==1:\n",
    "        return 1\n",
    "    substract = coins[current]\n",
    "    count = combinations(n-substract,coins,current) + combinations(n,coins,current+1)\n",
    "    return count"
   ]
  },
  {
   "cell_type": "code",
   "execution_count": 162,
   "metadata": {
    "scrolled": true
   },
   "outputs": [
    {
     "data": {
      "text/plain": [
       "6"
      ]
     },
     "execution_count": 162,
     "metadata": {},
     "output_type": "execute_result"
    }
   ],
   "source": [
    "coins = [25,10,5,1]\n",
    "n = 15\n",
    "combinations(n,coins)"
   ]
  },
  {
   "cell_type": "code",
   "execution_count": 184,
   "metadata": {},
   "outputs": [],
   "source": [
    "# O(n*m) runtime - O(n) memory\n",
    "\n",
    "def count(n,coins):\n",
    "    table = [[0 for _ in range(len(coins))] for _ in range(n+1)]\n",
    "    for i in range(len(coins)):\n",
    "        table[0][i] = 1\n",
    "        \n",
    "    for k in range(1,n+1):\n",
    "        for i in range(len(coins)):\n",
    "            if k-coins[i] >= 0:\n",
    "                table[k][i] += table[k-coins[i]][i]\n",
    "            if i-1 >= 0:\n",
    "                table[k][i] += table[k][i-1]\n",
    "                \n",
    "    return table[n][len(coins)-1]\n",
    "    "
   ]
  },
  {
   "cell_type": "code",
   "execution_count": 185,
   "metadata": {},
   "outputs": [
    {
     "data": {
      "text/plain": [
       "6"
      ]
     },
     "execution_count": 185,
     "metadata": {},
     "output_type": "execute_result"
    }
   ],
   "source": [
    "count(n,coins)"
   ]
  },
  {
   "cell_type": "markdown",
   "metadata": {},
   "source": [
    "### 8.12 Eight Queens\n",
    "Write an algorithm to print all ways of arranging eight queens on an 8x8 chess board so that none of them share the same row, column, or diagonal. In this case, \"diagonal\" means all diagonals, not just the two that bisect the board.\n"
   ]
  },
  {
   "cell_type": "code",
   "execution_count": 305,
   "metadata": {},
   "outputs": [],
   "source": [
    "def is_possible(board, line_i, idx_i):\n",
    "    if idx_i in board:\n",
    "        return False\n",
    "    for line_j,idx_j in enumerate(board):\n",
    "        if idx_j != None:\n",
    "            if abs(idx_j-idx_i) == abs(line_i-line_j):\n",
    "                return False\n",
    "    return True\n",
    "\n",
    "def all_ways(board,line_i,results):\n",
    "    if line_i == 8:\n",
    "        results.append(board)\n",
    "    for idx_i in range(8):\n",
    "        if is_possible(board,line_i,idx_i):\n",
    "            new_board = board.copy()\n",
    "            new_board[line_i] = idx_i\n",
    "            all_ways(new_board,line_i+1,results)\n",
    "\n",
    "def queens():\n",
    "    # generate board [None]*8 and initialize results\n",
    "    results = []\n",
    "    board = [None]*8\n",
    "    # check all possibilities for line 0\n",
    "    all_ways(board,0,results)\n",
    "    return results"
   ]
  },
  {
   "cell_type": "code",
   "execution_count": 308,
   "metadata": {},
   "outputs": [
    {
     "data": {
      "text/plain": [
       "92"
      ]
     },
     "execution_count": 308,
     "metadata": {},
     "output_type": "execute_result"
    }
   ],
   "source": [
    "len(queens())"
   ]
  },
  {
   "cell_type": "markdown",
   "metadata": {},
   "source": [
    "### 8.13 Stack of Boxes\n",
    "You have a stack of n boxes, with widths Wi' heights hi' and depths di.The boxes cannot be rotated and can only be stacked on top of one another if each box in the stack is strictly larger than the box above it in width, height, and depth. Implement a method to compute the height of the tallest possible stack.The height of a stack is the sum of the heights of each box."
   ]
  },
  {
   "cell_type": "code",
   "execution_count": 394,
   "metadata": {},
   "outputs": [],
   "source": [
    "# O(nlogn) runtime - O(n) memory\n",
    "\n",
    "def tallest_stack(boxes):\n",
    "    # extract all boxes from the stack in a list\n",
    "    boxes = extract(boxes)\n",
    "    # sort all elements by their heights\n",
    "    sort_by_heights(boxes)\n",
    "    # stack each element if they have w and d larger than previous\n",
    "    # find highest\n",
    "    highest = result_stack(boxes)    \n",
    "    return highest\n",
    "    \n",
    "def extract(boxes):\n",
    "    return [boxes.pop() for _ in range(len(boxes))]\n",
    "\n",
    "def sort_by_heights(boxes):\n",
    "    # [(h1,w1,d1),(h2,w2,d2),...]\n",
    "    if len(boxes) == 1:\n",
    "        return\n",
    "    \n",
    "    mid = len(boxes)//2\n",
    "    left_boxes = boxes[:mid]\n",
    "    sort_by_heights(left_boxes)\n",
    "    right_boxes = boxes[mid:]\n",
    "    sort_by_heights(right_boxes)\n",
    "    \n",
    "    i = j = k = 0\n",
    "    while i<len(left_boxes) and j<len(right_boxes):\n",
    "        if left_boxes[i][0] < right_boxes[j][0]:\n",
    "            boxes[k] = left_boxes[i]\n",
    "            i += 1\n",
    "        else:\n",
    "            boxes[k] = right_boxes[j]\n",
    "            j += 1\n",
    "        k += 1\n",
    "        \n",
    "    while i<len(left_boxes):\n",
    "        boxes[k] = left_boxes[i]\n",
    "        i += 1\n",
    "        k += 1\n",
    "    \n",
    "    while j<len(right_boxes):\n",
    "        boxes[k] = right_boxes[j]\n",
    "        j += 1\n",
    "        k += 1\n",
    "\n",
    "def result_stack(boxes):\n",
    "    memory = [None]*len(boxes)\n",
    "    for i in range(len(boxes)):\n",
    "        box = boxes[i]\n",
    "        height_max = box[0]\n",
    "        for j in range(0,i-1):\n",
    "            test_box = boxes[j]\n",
    "            if box[1] > test_box[1] and box[2] > test_box[2]:\n",
    "                if height_max < box[0] + memory[j]:\n",
    "                    height_max = box[0] + memory[j]\n",
    "        memory[i] = height_max\n",
    "                    \n",
    "    return max(memory)"
   ]
  },
  {
   "cell_type": "code",
   "execution_count": 395,
   "metadata": {},
   "outputs": [],
   "source": [
    "from random import randint\n",
    "boxes_rand = [(randint(0,100),randint(0,100),randint(0,100)) for _ in range(1000)]"
   ]
  },
  {
   "cell_type": "code",
   "execution_count": 396,
   "metadata": {},
   "outputs": [
    {
     "data": {
      "text/plain": [
       "1110"
      ]
     },
     "execution_count": 396,
     "metadata": {},
     "output_type": "execute_result"
    }
   ],
   "source": [
    "boxes = boxes_rand.copy()\n",
    "tallest_stack(boxes)"
   ]
  },
  {
   "cell_type": "markdown",
   "metadata": {},
   "source": [
    "### 8.14 Boolean Evaluation\n",
    "Given a boolean expression consisting of the symbols 0 (false), 1 (true), & (AND), I (OR), and ^ (XOR), and a desired boolean result value result, implement a function to count the number of ways of parenthesizing the expression such that it evaluates to result."
   ]
  },
  {
   "cell_type": "code",
   "execution_count": 404,
   "metadata": {},
   "outputs": [
    {
     "ename": "SyntaxError",
     "evalue": "invalid syntax (<ipython-input-404-33d8c15d572e>, line 1)",
     "output_type": "error",
     "traceback": [
      "\u001b[0;36m  File \u001b[0;32m\"<ipython-input-404-33d8c15d572e>\"\u001b[0;36m, line \u001b[0;32m1\u001b[0m\n\u001b[0;31m    1I1\u001b[0m\n\u001b[0m      ^\u001b[0m\n\u001b[0;31mSyntaxError\u001b[0m\u001b[0;31m:\u001b[0m invalid syntax\n"
     ]
    }
   ],
   "source": []
  },
  {
   "cell_type": "code",
   "execution_count": null,
   "metadata": {},
   "outputs": [],
   "source": []
  }
 ],
 "metadata": {
  "kernelspec": {
   "display_name": "Python 3",
   "language": "python",
   "name": "python3"
  },
  "language_info": {
   "codemirror_mode": {
    "name": "ipython",
    "version": 3
   },
   "file_extension": ".py",
   "mimetype": "text/x-python",
   "name": "python",
   "nbconvert_exporter": "python",
   "pygments_lexer": "ipython3",
   "version": "3.6.8"
  }
 },
 "nbformat": 4,
 "nbformat_minor": 2
}
