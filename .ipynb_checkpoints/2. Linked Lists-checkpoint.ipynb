{
 "cells": [
  {
   "cell_type": "code",
   "execution_count": 4,
   "metadata": {},
   "outputs": [],
   "source": [
    "class LinkedList():\n",
    "    def __init__(self,value,previous=None):\n",
    "        self.value = value\n",
    "        self.prev = None\n",
    "        self.next = None\n",
    "        \n",
    "    def insert(self, value):\n",
    "        new = LinkedList(value)\n",
    "        if self.next:\n",
    "            self.next.previous = new\n",
    "            new.next = self.next            \n",
    "            self.next = new\n",
    "            new.previous = self\n",
    "        else:\n",
    "            self.next = new\n",
    "            new.previous = self\n",
    "            \n",
    "    def delete(self):\n",
    "        if self.previous:\n",
    "            self.previous.next = self.next\n",
    "        if self.next:\n",
    "            self.next.previous = self.previous"
   ]
  },
  {
   "cell_type": "markdown",
   "metadata": {},
   "source": [
    "### 2.1 Remove Dups\n",
    "Write code to remove duplicates from an unsorted linked list. How would you solve this problem if a temporary buffer is not allowed? "
   ]
  },
  {
   "cell_type": "code",
   "execution_count": 46,
   "metadata": {},
   "outputs": [],
   "source": [
    "# O(n) runtime - O(n) memory\n",
    "def remove_duplicates(linked):\n",
    "    if not isinstance(linked,LinkedList):\n",
    "        return TypeError('Not a linked array')\n",
    "    \n",
    "    buffer = set()\n",
    "    while linked:\n",
    "        if linked.value not in buffer:\n",
    "            buffer.add(linked.value)\n",
    "        else:\n",
    "            linked.delete()\n",
    "        previous = linked\n",
    "        linked = linked.next\n",
    "\n",
    "# O(n^2) runtime - O(1) memory\n",
    "def remove_duplicate(linked):\n",
    "    if not isinstance(linked,LinkedList):\n",
    "        return TypeError('Not a linked array')\n",
    "    \n",
    "    current = linked\n",
    "    future = linked.next\n",
    "    \n",
    "    while current:\n",
    "        while future:\n",
    "            if current.value == future.value:\n",
    "                future.delete()\n",
    "            future = future.next\n",
    "        current = current.next\n",
    "        future = current.next"
   ]
  },
  {
   "cell_type": "code",
   "execution_count": 49,
   "metadata": {},
   "outputs": [
    {
     "data": {
      "text/plain": [
       "6"
      ]
     },
     "execution_count": 49,
     "metadata": {},
     "output_type": "execute_result"
    }
   ],
   "source": [
    "linked = LinkedList(1)\n",
    "linked.insert(6)\n",
    "linked.insert(3)\n",
    "linked.insert(4)\n",
    "linked.insert(3)\n",
    "linked.insert(2)\n",
    "\n",
    "remove_duplicates(linked)\n",
    "\n",
    "linked.next.next.next.next.value"
   ]
  },
  {
   "cell_type": "markdown",
   "metadata": {},
   "source": [
    "### 2.2 Return Kth to Last\n",
    "Implement an algorithm to find the kth to last element of a singly linked list"
   ]
  },
  {
   "cell_type": "code",
   "execution_count": 8,
   "metadata": {},
   "outputs": [],
   "source": [
    "# O(n) runtime - O(k) memory\n",
    "\n",
    "def find_kth(linked,k):\n",
    "    i = 0\n",
    "    while i<k-1 and linked:\n",
    "        linked = linked.next\n",
    "        i += 1\n",
    "    elmts = []\n",
    "    while linked:\n",
    "        elmts.append(linked.value)\n",
    "        linked = linked.next\n",
    "    return elmts"
   ]
  },
  {
   "cell_type": "code",
   "execution_count": 11,
   "metadata": {},
   "outputs": [
    {
     "data": {
      "text/plain": [
       "[4, 3, 6]"
      ]
     },
     "execution_count": 11,
     "metadata": {},
     "output_type": "execute_result"
    }
   ],
   "source": [
    "linked = LinkedList(1)\n",
    "linked.insert(6)\n",
    "linked.insert(3)\n",
    "linked.insert(4)\n",
    "linked.insert(3)\n",
    "linked.insert(2)\n",
    "\n",
    "find_kth(linked,4)"
   ]
  },
  {
   "cell_type": "markdown",
   "metadata": {},
   "source": [
    "### 2.3 Delete Middle Node\n",
    " Implement an algorithm to delete a node in the middle"
   ]
  },
  {
   "cell_type": "code",
   "execution_count": 12,
   "metadata": {},
   "outputs": [],
   "source": [
    "def delete(node):\n",
    "    node.previous.next = node.next\n",
    "    node.next.previous = node.previous"
   ]
  },
  {
   "cell_type": "code",
   "execution_count": 16,
   "metadata": {},
   "outputs": [
    {
     "data": {
      "text/plain": [
       "5"
      ]
     },
     "execution_count": 16,
     "metadata": {},
     "output_type": "execute_result"
    }
   ],
   "source": [
    "linked = LinkedList(1)\n",
    "linked.insert(6)\n",
    "linked.insert(5)\n",
    "linked.insert(4)\n",
    "linked.insert(3)\n",
    "linked.insert(2)\n",
    "\n",
    "delete(linked.next.next.next) #node 4, next node is 5\n",
    "linked.next.next.next.value"
   ]
  },
  {
   "cell_type": "markdown",
   "metadata": {},
   "source": [
    "### 2.4 Partition\n",
    "Write code to partition a linked list around a value x, such that all nodes less than x come before all nodes greater than or equal to x"
   ]
  },
  {
   "cell_type": "code",
   "execution_count": 34,
   "metadata": {},
   "outputs": [],
   "source": [
    "# NOT WORKING: TO DEBUG\n",
    "# O(n) runtime - O(1) memory\n",
    "def partition(linked,n):\n",
    "    # run through the linked list\n",
    "    to_swap = next_swap = []\n",
    "    while linked:\n",
    "        if linked.value > n and not to_swap:\n",
    "            to_swap.append(linked)\n",
    "        if linked.value > n and to_swap and not next_swap:\n",
    "            next_swap.append(linked)\n",
    "        if linked.value < n and to_swap:\n",
    "            swap(linked,to_swap.pop())\n",
    "            if next_swap:\n",
    "                to_swap.append(next_swap.pop())\n",
    "            else:\n",
    "                to_swap.append(linked)\n",
    "        linked = linked.next\n",
    "        \n",
    "    # if value is higher than n, define it as to_swap\n",
    "    # if a value found later higher than n and no next_swap, save it as next_swap\n",
    "    # if a value found later is lower than n, swap it with to_swap\n",
    "    # define to_swap as next_swap and next_swap as none\n",
    "\n",
    "def swap(node1,node2):\n",
    "    node1.value, node2.value = node2.value, node1.value"
   ]
  },
  {
   "cell_type": "code",
   "execution_count": 40,
   "metadata": {},
   "outputs": [
    {
     "data": {
      "text/plain": [
       "3"
      ]
     },
     "execution_count": 40,
     "metadata": {},
     "output_type": "execute_result"
    }
   ],
   "source": [
    "linked = LinkedList(1)\n",
    "linked.insert(3)\n",
    "linked.insert(2)\n",
    "linked.insert(4)\n",
    "linked.insert(5)\n",
    "linked.insert(6)\n",
    "\n",
    "partition(linked,4)\n",
    "linked.next.next.next.next.value"
   ]
  },
  {
   "cell_type": "code",
   "execution_count": null,
   "metadata": {},
   "outputs": [],
   "source": []
  }
 ],
 "metadata": {
  "kernelspec": {
   "display_name": "Python 3",
   "language": "python",
   "name": "python3"
  },
  "language_info": {
   "codemirror_mode": {
    "name": "ipython",
    "version": 3
   },
   "file_extension": ".py",
   "mimetype": "text/x-python",
   "name": "python",
   "nbconvert_exporter": "python",
   "pygments_lexer": "ipython3",
   "version": "3.6.8"
  }
 },
 "nbformat": 4,
 "nbformat_minor": 2
}
