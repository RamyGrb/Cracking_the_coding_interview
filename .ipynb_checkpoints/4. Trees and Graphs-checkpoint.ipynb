{
 "cells": [
  {
   "cell_type": "code",
   "execution_count": 3,
   "metadata": {},
   "outputs": [],
   "source": [
    "# Binary Tree\n",
    "class BinaryTreeNode(object):\n",
    "    def __init__(self, value,left=None, right=None):\n",
    "        self.value = value\n",
    "        self.left = left\n",
    "        self.right = right\n",
    "        \n",
    "Tree = BinaryTreeNode(1)\n",
    "Tree.left = BinaryTreeNode(2)\n",
    "Tree.right = BinaryTreeNode(5)\n",
    "Tree.left.left = BinaryTreeNode(3)\n",
    "Tree.left.right = BinaryTreeNode(4)\n",
    "Tree.right.left = BinaryTreeNode(6)\n",
    "Tree.right.right = BinaryTreeNode(7)\n",
    "\n",
    "# Graph\n",
    "graph = {\n",
    "    0: [1,7],\n",
    "    1: [0,2,7],\n",
    "    2: [1,8,3],\n",
    "    3: [2,4,5],\n",
    "    4: [3,5],\n",
    "    5: [2,3,4,6],\n",
    "    6: [5,7,8],\n",
    "    7: [0,1,6,8],\n",
    "    8: [2,6,7]\n",
    "}\n",
    "graph_weighted = {\n",
    "    0: {1:4,7:8},\n",
    "    1: {0:4,2:8,7:11},\n",
    "    2: {1:8,8:2,3:7},\n",
    "    3: {2:7,4:9,5:14},\n",
    "    4: {3:9,5:10},\n",
    "    5: {2:4,3:14,4:10,6:2},\n",
    "    6: {5:2,7:1,8:6},\n",
    "    7: {0:8,1:11,6:1,8:7},\n",
    "    8: {2:2,6:6,7:7} \n",
    "}"
   ]
  },
  {
   "cell_type": "markdown",
   "metadata": {},
   "source": [
    "### 4.1 Route Between Nodes\n",
    "Given a directed graph, find out whether there is a route between two nodes"
   ]
  },
  {
   "cell_type": "code",
   "execution_count": 27,
   "metadata": {},
   "outputs": [],
   "source": [
    "# O(nb_edges) runtime - O(n) memory\n",
    "\n",
    "def route(graph,node1,node2):\n",
    "    # Error if graph, nodes in graph\n",
    "    if node1 not in graph or node2 not in graph:\n",
    "        raise ValueError('nodes not in graph')\n",
    "    \n",
    "    to_visit = [node1]\n",
    "    visited = set()\n",
    "    while to_visit:\n",
    "        current = to_visit.pop()\n",
    "        visited.add(current)\n",
    "        for neighbor in graph[current]:\n",
    "            if neighbor == node2:\n",
    "                return True\n",
    "            else:\n",
    "                to_visit.append(neighbor)\n",
    "                visited.add(neighbor)\n",
    "    \n",
    "    return False"
   ]
  },
  {
   "cell_type": "code",
   "execution_count": 28,
   "metadata": {},
   "outputs": [
    {
     "data": {
      "text/plain": [
       "[True, False]"
      ]
     },
     "execution_count": 28,
     "metadata": {},
     "output_type": "execute_result"
    }
   ],
   "source": [
    "graph_directed = {\n",
    "    0: [1],\n",
    "    1: [2],\n",
    "    2: [3],\n",
    "    3: [4,5],\n",
    "    4: [5],\n",
    "    5: [6],\n",
    "    6: [],\n",
    "    7: [8],\n",
    "    8: [6]\n",
    "}\n",
    "\n",
    "[route(graph_directed,0,6),route(graph_directed,0,8)]"
   ]
  },
  {
   "cell_type": "markdown",
   "metadata": {},
   "source": [
    "### Minimal Tree\n",
    "Given an increasing array with unique integers, write an algorithm to create a binary search tree with minimal height"
   ]
  },
  {
   "cell_type": "code",
   "execution_count": 38,
   "metadata": {},
   "outputs": [],
   "source": [
    "# O(n) runtime - O(n) memory\n",
    "\n",
    "def minimal_tree(array):\n",
    "    \n",
    "    if len(array) == 0:\n",
    "        return None\n",
    "    if len(array) == 1:\n",
    "        return BinaryTreeNode(array[0])\n",
    "        \n",
    "    root = BinaryTreeNode(array[len(array)//2])\n",
    "    root.left = minimal_tree(array[:len(array)//2])\n",
    "    root.right = minimal_tree(array[len(array)//2:])\n",
    "    \n",
    "    return root"
   ]
  },
  {
   "cell_type": "markdown",
   "metadata": {},
   "source": [
    "### 4.3 List of Depths\n",
    "Given a binary tree, create a linked list of all the nodes at each depth (ex: if you have a tree with depth D, you'll have D linked lists)"
   ]
  },
  {
   "cell_type": "code",
   "execution_count": 67,
   "metadata": {},
   "outputs": [],
   "source": [
    "# O(n) runtime - O(n) memory\n",
    "\n",
    "from collections import deque\n",
    "from math import log2\n",
    "\n",
    "def depths_list(tree):    \n",
    "    to_visit = deque()\n",
    "    to_visit.append(tree)\n",
    "    count = 0\n",
    "    current_list = []\n",
    "    lists = []\n",
    "    \n",
    "    while to_visit:\n",
    "        current = to_visit.popleft()\n",
    "        current_list.append(current)\n",
    "        count += 1\n",
    "        if log2((count+1)/2) == int(log2((count+1)/2)):\n",
    "            lists.append(current_list)\n",
    "            current_list = []\n",
    "        if current.left:\n",
    "            to_visit.append(current.left)\n",
    "        if current.right:\n",
    "            to_visit.append(current.right)\n",
    "    \n",
    "    if current_list:\n",
    "        lists.append(current_list)\n",
    "    \n",
    "    return lists      "
   ]
  },
  {
   "cell_type": "code",
   "execution_count": 68,
   "metadata": {},
   "outputs": [
    {
     "data": {
      "text/plain": [
       "[[<__main__.BinaryTreeNode at 0x1074d6e80>],\n",
       " [<__main__.BinaryTreeNode at 0x1074d6e10>,\n",
       "  <__main__.BinaryTreeNode at 0x1074d6eb8>],\n",
       " [<__main__.BinaryTreeNode at 0x1074d6dd8>,\n",
       "  <__main__.BinaryTreeNode at 0x1074d6f28>,\n",
       "  <__main__.BinaryTreeNode at 0x1074d6f98>,\n",
       "  <__main__.BinaryTreeNode at 0x1074d6fd0>]]"
      ]
     },
     "execution_count": 68,
     "metadata": {},
     "output_type": "execute_result"
    }
   ],
   "source": [
    "depths_list(Tree)"
   ]
  },
  {
   "cell_type": "markdown",
   "metadata": {},
   "source": [
    "### 4.4 Check Balanced\n",
    "Check if a binary tree is balanced  (= heights of two subtrees of any node never differ by more than one)"
   ]
  },
  {
   "cell_type": "code",
   "execution_count": 69,
   "metadata": {},
   "outputs": [],
   "source": [
    "# O(n) runtime - O(n) space\n",
    "\n",
    "def is_balanced(tree):\n",
    "    max_depth = count_depth = 1\n",
    "    current = tree\n",
    "    while current.left:\n",
    "        max_depth += 1\n",
    "        current = current.left\n",
    "    \n",
    "    return DPT(tree,max_depth,count_depth)\n",
    "    \n",
    "def DPT(tree,max_depth,count_depth):\n",
    "    if not tree.left and not tree.right:\n",
    "        if abs(max_depth - count_depth) >1:\n",
    "            return False\n",
    "    if tree.left:\n",
    "        if not DPT(tree.left,max_depth,count_depth+1):\n",
    "            return False\n",
    "    if tree.right:\n",
    "        if not DPT(tree.right,max_depth,count_depth+1):\n",
    "            return False\n",
    "    return True"
   ]
  },
  {
   "cell_type": "code",
   "execution_count": 72,
   "metadata": {},
   "outputs": [
    {
     "data": {
      "text/plain": [
       "[True, False]"
      ]
     },
     "execution_count": 72,
     "metadata": {},
     "output_type": "execute_result"
    }
   ],
   "source": [
    "Tree = BinaryTreeNode(1)\n",
    "Tree.left = BinaryTreeNode(2)\n",
    "Tree.right = BinaryTreeNode(5)\n",
    "Tree.left.left = BinaryTreeNode(3)\n",
    "Tree.left.right = BinaryTreeNode(4)\n",
    "Tree.right.left = BinaryTreeNode(6)\n",
    "Tree.right.right = BinaryTreeNode(7)\n",
    "\n",
    "Tree2 = BinaryTreeNode(1)\n",
    "Tree2.left = BinaryTreeNode(2)\n",
    "Tree2.right = BinaryTreeNode(5)\n",
    "Tree2.left.left = BinaryTreeNode(3)\n",
    "Tree2.left.right = BinaryTreeNode(4)\n",
    "Tree2.left.left.left = BinaryTreeNode(3)\n",
    "\n",
    "[is_balanced(Tree),is_balanced(Tree2)]"
   ]
  },
  {
   "cell_type": "markdown",
   "metadata": {},
   "source": [
    "### 4.5 Validate BST\n",
    "Check if a binary tree is a binary search tree"
   ]
  },
  {
   "cell_type": "code",
   "execution_count": 109,
   "metadata": {},
   "outputs": [],
   "source": [
    "# O(n) runtime - O(nb_layers) memory\n",
    "\n",
    "def is_BST(tree):\n",
    "    to_visit = [tree]\n",
    "    \n",
    "    while to_visit:\n",
    "        current = to_visit.pop()\n",
    "        if current.right:\n",
    "            if current.value > current.right.value:\n",
    "                return False\n",
    "            to_visit.append(current.right)\n",
    "        if current.left:\n",
    "            if current.value < current.left.value:\n",
    "                return False\n",
    "            to_visit.append(current.left)\n",
    "    return True"
   ]
  },
  {
   "cell_type": "code",
   "execution_count": 110,
   "metadata": {},
   "outputs": [
    {
     "data": {
      "text/plain": [
       "True"
      ]
     },
     "execution_count": 110,
     "metadata": {},
     "output_type": "execute_result"
    }
   ],
   "source": [
    "Tree = BinaryTreeNode(4)\n",
    "Tree.left = BinaryTreeNode(2)\n",
    "Tree.right = BinaryTreeNode(6)\n",
    "Tree.left.left = BinaryTreeNode(1)\n",
    "Tree.left.right = BinaryTreeNode(3)\n",
    "Tree.right.left = BinaryTreeNode(5)\n",
    "Tree.right.right = BinaryTreeNode(7)\n",
    "\n",
    "is_BST(Tree)"
   ]
  },
  {
   "cell_type": "markdown",
   "metadata": {},
   "source": [
    "### 4.6 Successor\n",
    "Find the next node of a given node in a binary search tree"
   ]
  },
  {
   "cell_type": "code",
   "execution_count": 190,
   "metadata": {},
   "outputs": [],
   "source": [
    "# O(n) runtime - O(1) memory\n",
    "\n",
    "def find_successor(tree,node):\n",
    "    parent = None\n",
    "    while tree:\n",
    "        if tree.value > node:\n",
    "            parent = tree.value\n",
    "            tree = tree.left\n",
    "        else:\n",
    "            tree = tree.right\n",
    "    return parent"
   ]
  },
  {
   "cell_type": "code",
   "execution_count": 147,
   "metadata": {},
   "outputs": [
    {
     "data": {
      "text/plain": [
       "[7, 6, 5, 4, 3, 2, 1]"
      ]
     },
     "execution_count": 147,
     "metadata": {},
     "output_type": "execute_result"
    }
   ],
   "source": [
    "order"
   ]
  },
  {
   "cell_type": "markdown",
   "metadata": {},
   "source": [
    "### 4.7 Build Order\n",
    "You are given a list of projects and a list of dependencies. All of a project's dependencies must be built before the project is.\n",
    "Find a build order that will allow the projects to be built. If there is no valid build order, return an error.\n"
   ]
  },
  {
   "cell_type": "code",
   "execution_count": 239,
   "metadata": {},
   "outputs": [],
   "source": [
    "# O(nb edges) runtime - O(n) memory\n",
    "\n",
    "def build_order(proj,dep):\n",
    "    to_build = []\n",
    "    order = []\n",
    "    graph = {p:{'parents':set(),'childrens':set()} for p in projects}\n",
    "    \n",
    "    for d in dep:\n",
    "        children = d[0]\n",
    "        parent = d[1]\n",
    "        graph[parent]['childrens'].add(children)\n",
    "        graph[children]['parents'].add(parent)\n",
    "        \n",
    "    for node in graph:\n",
    "        if not graph[node]['parents']:\n",
    "            to_build.append(node)\n",
    "                                                    \n",
    "    while to_build:\n",
    "        current = to_build.pop()\n",
    "        if not graph[current]['parents']:\n",
    "            order.append(current)\n",
    "            for children in graph[current]['childrens']:\n",
    "                graph[children]['parents'].remove(current)\n",
    "                if not graph[children]['parents']:\n",
    "                    to_build.append(children)\n",
    "    \n",
    "    if len(order)<len(proj):\n",
    "        raise SytemError('Project not buildable')\n",
    "    \n",
    "    return order"
   ]
  },
  {
   "cell_type": "code",
   "execution_count": 240,
   "metadata": {},
   "outputs": [
    {
     "data": {
      "text/plain": [
       "['e', 'c', 'd', 'b', 'a', 'f']"
      ]
     },
     "execution_count": 240,
     "metadata": {},
     "output_type": "execute_result"
    }
   ],
   "source": [
    "projects = ['a', 'b', 'c', 'd', 'e', 'f']\n",
    "dependencies = [('a', 'd'), ('f', 'b'), ('b', 'd'), ('f', 'a'), ('d', 'c')]\n",
    "build_order(projects,dependencies)"
   ]
  },
  {
   "cell_type": "markdown",
   "metadata": {},
   "source": [
    "### 4.8 Find Common Ancestor\n",
    "Find the first common ancestor of two nodes in a binary tree. Avoid storing additional nodes in a data structure. "
   ]
  },
  {
   "cell_type": "code",
   "execution_count": 280,
   "metadata": {},
   "outputs": [],
   "source": [
    "# O(n) runtime and O(n) memory\n",
    "\n",
    "# check if left contains node1 == left contains node2\n",
    "## no: return tree\n",
    "## yes:\n",
    "### if left contains node1 go left and repeat\n",
    "### if right go ritht and repeat\n",
    "\n",
    "def find(tree,node):\n",
    "    if not tree:\n",
    "        return False\n",
    "    if tree.value == node:\n",
    "        return True\n",
    "    return find(tree.left,node) or find(tree.right,node)\n",
    "\n",
    "def common_ancestor(tree,node1,node2):\n",
    "    \n",
    "    # error nodes not in tree\n",
    "    if not find(tree,node1) or not find(tree,node2):\n",
    "        raise SystemError('nodes not in the tree')\n",
    "        \n",
    "    return ancestor(tree,node1,node2)\n",
    "        \n",
    "def ancestor(tree,node1,node2):\n",
    "    \n",
    "    if tree.value == node1 or tree.value == node2:\n",
    "        return tree.value\n",
    "    \n",
    "    node1_left = find(tree.left,node1)\n",
    "    node2_left = find(tree.left,node2)\n",
    "    if not node1_left == node2_left:\n",
    "        return tree.value\n",
    "    else:\n",
    "        if node1_left:\n",
    "            return common_ancestor(tree.left,node1,node2)\n",
    "        else:\n",
    "            return common_ancestor(tree.right,node1,node2)"
   ]
  },
  {
   "cell_type": "code",
   "execution_count": 283,
   "metadata": {},
   "outputs": [
    {
     "data": {
      "text/plain": [
       "5"
      ]
     },
     "execution_count": 283,
     "metadata": {},
     "output_type": "execute_result"
    }
   ],
   "source": [
    "common_ancestor(Tree,6,7)"
   ]
  },
  {
   "cell_type": "markdown",
   "metadata": {},
   "source": [
    "### 4.9 BST Sequence\n",
    "A binary search tree was created by traversing through an array from left to right and inserting each element. Given a binary search tree with distinct elements, print all possible arrays that could have led to this tree."
   ]
  },
  {
   "cell_type": "code",
   "execution_count": 356,
   "metadata": {},
   "outputs": [],
   "source": [
    "def permutations(perm,subtrees):\n",
    "    if not subtrees:\n",
    "        return [perm]\n",
    "    perm_list = []\n",
    "    \n",
    "    for i,tree in enumerate(subtrees):\n",
    "        sub_perm = perm + [tree.value]\n",
    "        next_subtrees = [s for s in subtrees if s != tree]\n",
    "        if tree.left:\n",
    "            next_subtrees.append(tree.left)\n",
    "        if tree.right:\n",
    "            next_subtrees.append(tree.right)\n",
    "        perm_list += permutations(sub_perm,next_subtrees)\n",
    "    \n",
    "    return perm_list\n",
    "        \n",
    "def bst_seq(tree):\n",
    "    return permutations([],[tree])"
   ]
  },
  {
   "cell_type": "code",
   "execution_count": 357,
   "metadata": {
    "scrolled": true
   },
   "outputs": [
    {
     "data": {
      "text/plain": [
       "[[1, 2, 5, 3, 4, 6, 7],\n",
       " [1, 2, 5, 3, 4, 7, 6],\n",
       " [1, 2, 5, 3, 6, 4, 7],\n",
       " [1, 2, 5, 3, 6, 7, 4],\n",
       " [1, 2, 5, 3, 7, 4, 6],\n",
       " [1, 2, 5, 3, 7, 6, 4],\n",
       " [1, 2, 5, 4, 3, 6, 7],\n",
       " [1, 2, 5, 4, 3, 7, 6],\n",
       " [1, 2, 5, 4, 6, 3, 7],\n",
       " [1, 2, 5, 4, 6, 7, 3],\n",
       " [1, 2, 5, 4, 7, 3, 6],\n",
       " [1, 2, 5, 4, 7, 6, 3],\n",
       " [1, 2, 5, 6, 3, 4, 7],\n",
       " [1, 2, 5, 6, 3, 7, 4],\n",
       " [1, 2, 5, 6, 4, 3, 7],\n",
       " [1, 2, 5, 6, 4, 7, 3],\n",
       " [1, 2, 5, 6, 7, 3, 4],\n",
       " [1, 2, 5, 6, 7, 4, 3],\n",
       " [1, 2, 5, 7, 3, 4, 6],\n",
       " [1, 2, 5, 7, 3, 6, 4],\n",
       " [1, 2, 5, 7, 4, 3, 6],\n",
       " [1, 2, 5, 7, 4, 6, 3],\n",
       " [1, 2, 5, 7, 6, 3, 4],\n",
       " [1, 2, 5, 7, 6, 4, 3],\n",
       " [1, 2, 3, 5, 4, 6, 7],\n",
       " [1, 2, 3, 5, 4, 7, 6],\n",
       " [1, 2, 3, 5, 6, 4, 7],\n",
       " [1, 2, 3, 5, 6, 7, 4],\n",
       " [1, 2, 3, 5, 7, 4, 6],\n",
       " [1, 2, 3, 5, 7, 6, 4],\n",
       " [1, 2, 3, 4, 5, 6, 7],\n",
       " [1, 2, 3, 4, 5, 7, 6],\n",
       " [1, 2, 4, 5, 3, 6, 7],\n",
       " [1, 2, 4, 5, 3, 7, 6],\n",
       " [1, 2, 4, 5, 6, 3, 7],\n",
       " [1, 2, 4, 5, 6, 7, 3],\n",
       " [1, 2, 4, 5, 7, 3, 6],\n",
       " [1, 2, 4, 5, 7, 6, 3],\n",
       " [1, 2, 4, 3, 5, 6, 7],\n",
       " [1, 2, 4, 3, 5, 7, 6],\n",
       " [1, 5, 2, 6, 7, 3, 4],\n",
       " [1, 5, 2, 6, 7, 4, 3],\n",
       " [1, 5, 2, 6, 3, 7, 4],\n",
       " [1, 5, 2, 6, 3, 4, 7],\n",
       " [1, 5, 2, 6, 4, 7, 3],\n",
       " [1, 5, 2, 6, 4, 3, 7],\n",
       " [1, 5, 2, 7, 6, 3, 4],\n",
       " [1, 5, 2, 7, 6, 4, 3],\n",
       " [1, 5, 2, 7, 3, 6, 4],\n",
       " [1, 5, 2, 7, 3, 4, 6],\n",
       " [1, 5, 2, 7, 4, 6, 3],\n",
       " [1, 5, 2, 7, 4, 3, 6],\n",
       " [1, 5, 2, 3, 6, 7, 4],\n",
       " [1, 5, 2, 3, 6, 4, 7],\n",
       " [1, 5, 2, 3, 7, 6, 4],\n",
       " [1, 5, 2, 3, 7, 4, 6],\n",
       " [1, 5, 2, 3, 4, 6, 7],\n",
       " [1, 5, 2, 3, 4, 7, 6],\n",
       " [1, 5, 2, 4, 6, 7, 3],\n",
       " [1, 5, 2, 4, 6, 3, 7],\n",
       " [1, 5, 2, 4, 7, 6, 3],\n",
       " [1, 5, 2, 4, 7, 3, 6],\n",
       " [1, 5, 2, 4, 3, 6, 7],\n",
       " [1, 5, 2, 4, 3, 7, 6],\n",
       " [1, 5, 6, 2, 7, 3, 4],\n",
       " [1, 5, 6, 2, 7, 4, 3],\n",
       " [1, 5, 6, 2, 3, 7, 4],\n",
       " [1, 5, 6, 2, 3, 4, 7],\n",
       " [1, 5, 6, 2, 4, 7, 3],\n",
       " [1, 5, 6, 2, 4, 3, 7],\n",
       " [1, 5, 6, 7, 2, 3, 4],\n",
       " [1, 5, 6, 7, 2, 4, 3],\n",
       " [1, 5, 7, 2, 6, 3, 4],\n",
       " [1, 5, 7, 2, 6, 4, 3],\n",
       " [1, 5, 7, 2, 3, 6, 4],\n",
       " [1, 5, 7, 2, 3, 4, 6],\n",
       " [1, 5, 7, 2, 4, 6, 3],\n",
       " [1, 5, 7, 2, 4, 3, 6],\n",
       " [1, 5, 7, 6, 2, 3, 4],\n",
       " [1, 5, 7, 6, 2, 4, 3]]"
      ]
     },
     "execution_count": 357,
     "metadata": {},
     "output_type": "execute_result"
    }
   ],
   "source": [
    "bst_seq(Tree)"
   ]
  },
  {
   "cell_type": "markdown",
   "metadata": {},
   "source": [
    "### 4.10 Check Subtree\n",
    "Create an algorithm to determine if T2 is a subtree of T1."
   ]
  },
  {
   "cell_type": "code",
   "execution_count": 360,
   "metadata": {},
   "outputs": [],
   "source": [
    "# O(nm) runtime (way less in reality in average) - O(m) memory\n",
    "\n",
    "def check_subtree(parent,child):\n",
    "    to_visit = [parent]\n",
    "    while to_visit:\n",
    "        current = to_visit.pop(0)\n",
    "        if current == child:\n",
    "            to_visit_test_parent = [current]\n",
    "            to_visit_test_child = [child]\n",
    "            while to_visit_test_parent:\n",
    "                found = True\n",
    "                current_test_parent = to_visit_test_parent.pop(0)\n",
    "                current_test_child = to_visit_test_child.pop(0)\n",
    "                if parent.left != child.left or parent.right != child.right:\n",
    "                    found = False\n",
    "                    break\n",
    "                if parent.left:\n",
    "                    to_visit_test_parent.append(parent.left)\n",
    "                    to_visit_test_child.append(child.left)\n",
    "                if parent.right:\n",
    "                    to_visit_test_parent.append(parent.right)\n",
    "                    to_visit_test_child.append(child.right)\n",
    "            if found == True:\n",
    "                return True \n",
    "        if parent.left:\n",
    "            to_visit.append(parent.left)\n",
    "        if parent.right:\n",
    "            to_visit.append(parent.right)\n",
    "    return False"
   ]
  },
  {
   "cell_type": "markdown",
   "metadata": {},
   "source": [
    "### 4.11 Random Node\n",
    "You are implementing a binary tree class from scratch which, in addition to insert, find, and delete, has a method getRandomNode() which returns a random node from the tree. "
   ]
  },
  {
   "cell_type": "code",
   "execution_count": null,
   "metadata": {},
   "outputs": [],
   "source": [
    "from random import randint\n",
    "\n",
    "class TreeNode():\n",
    "    def __init__(self,value):\n",
    "        self.value = value\n",
    "        self.left = None\n",
    "        self.right = None\n",
    "        self.nb_nodes = 1 # keep track of number of nodes\n",
    "        \n",
    "    def getRandomNode(self):\n",
    "        random = randint(1,self.nb_nodes)\n",
    "        to_visit = [self]\n",
    "        while to_visit:\n",
    "            if random == count:\n",
    "                return current\n",
    "            current = to_visit.pop()\n",
    "            count += 1\n",
    "            if current.right:\n",
    "                to_visit.append(current.right)\n",
    "            if current.left:\n",
    "                to_visit.append(current.left)\n",
    "    \n",
    "    def delete(self, value)"
   ]
  },
  {
   "cell_type": "markdown",
   "metadata": {},
   "source": [
    "### 4.12 Paths with Sum\n",
    "Design an algorithm to count the number of paths that sum to a given value. The path does not need to start or end at the root or a leaf, but it must go downwards (traveling only from parent nodes to child nodes)."
   ]
  },
  {
   "cell_type": "code",
   "execution_count": 15,
   "metadata": {},
   "outputs": [],
   "source": [
    "# O(N^2) runtime - O(N^2) memory\n",
    "\n",
    "def count_paths(tree,total,sums=None):\n",
    "    \n",
    "    if not sums:\n",
    "        sums = [0]\n",
    "    \n",
    "    if not tree:\n",
    "        return 0\n",
    "\n",
    "    nb_paths = 0 \n",
    "    new_sums = [s + tree.value for s in sums]\n",
    "    for s in new_sums:\n",
    "        if s == total:\n",
    "            nb_paths += 1\n",
    "    sums += new_sums            \n",
    "    nb_paths += count_paths(tree.left,total,sums) + count_paths(tree.right,total,sums) \n",
    "    \n",
    "    return nb_paths"
   ]
  },
  {
   "cell_type": "code",
   "execution_count": 16,
   "metadata": {},
   "outputs": [
    {
     "data": {
      "text/plain": [
       "2"
      ]
     },
     "execution_count": 16,
     "metadata": {},
     "output_type": "execute_result"
    }
   ],
   "source": [
    "Tree = BinaryTreeNode(4)\n",
    "Tree.left = BinaryTreeNode(2)\n",
    "Tree.right = BinaryTreeNode(6)\n",
    "Tree.left.left = BinaryTreeNode(1)\n",
    "Tree.left.right = BinaryTreeNode(3)\n",
    "Tree.right.left = BinaryTreeNode(5)\n",
    "Tree.right.right = BinaryTreeNode(7)\n",
    "\n",
    "count_paths(Tree,4)"
   ]
  }
 ],
 "metadata": {
  "kernelspec": {
   "display_name": "Python 3",
   "language": "python",
   "name": "python3"
  },
  "language_info": {
   "codemirror_mode": {
    "name": "ipython",
    "version": 3
   },
   "file_extension": ".py",
   "mimetype": "text/x-python",
   "name": "python",
   "nbconvert_exporter": "python",
   "pygments_lexer": "ipython3",
   "version": "3.6.8"
  }
 },
 "nbformat": 4,
 "nbformat_minor": 2
}
