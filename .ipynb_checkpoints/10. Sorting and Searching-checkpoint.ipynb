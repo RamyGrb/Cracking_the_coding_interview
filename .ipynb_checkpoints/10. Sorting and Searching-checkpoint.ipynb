{
 "cells": [
  {
   "cell_type": "markdown",
   "metadata": {},
   "source": [
    "### 10.1 Sorted Merge\n",
    "You are given two sorted arrays, A and B, where A has a large enough buffer at the\n",
    "end to hold B. Write a method to merge B into A in sorted order."
   ]
  },
  {
   "cell_type": "code",
   "execution_count": 2,
   "metadata": {},
   "outputs": [],
   "source": [
    "# O(n+m) runtime - O(1) memory if we leftpop from B instead of iterating with a dequeue\n",
    "def sorted_merge(A,B):\n",
    "    i = j = 0\n",
    "    while i < len(B) and j < len(A):\n",
    "        if B[i] < A[j]:\n",
    "            A.insert(j,B[i])\n",
    "            i += 1\n",
    "        else:\n",
    "            j += 1\n",
    "    while i < len(B):\n",
    "        A.append(B[i])\n",
    "        i += 1"
   ]
  },
  {
   "cell_type": "code",
   "execution_count": 3,
   "metadata": {},
   "outputs": [
    {
     "data": {
      "text/plain": [
       "[1, 1, 2, 3, 4, 6, 7, 8, 9, 10, 12, 13, 15]"
      ]
     },
     "execution_count": 3,
     "metadata": {},
     "output_type": "execute_result"
    }
   ],
   "source": [
    "A = [1,4,6,7,9,12]\n",
    "B = [1,2,3,8,10,13,15]\n",
    "sorted_merge(A,B)\n",
    "A"
   ]
  },
  {
   "cell_type": "markdown",
   "metadata": {},
   "source": [
    "### 10.2 Group Anagrams\n",
    "Write a method to sort an array of strings so that all the anagrams are next to each other."
   ]
  },
  {
   "cell_type": "code",
   "execution_count": 55,
   "metadata": {},
   "outputs": [],
   "source": [
    "# O(nb letters + nb strings) runtime - O(nb strings) memry\n",
    "   \n",
    "def count_char(s):\n",
    "    count = {}\n",
    "    for char in s.lower():\n",
    "        if char not in [' ','!','?','.',',']:\n",
    "            if char in count:\n",
    "                count[char] += 1\n",
    "            else:\n",
    "                count[char] = 1\n",
    "    return count\n",
    "\n",
    "def group_anag(strings):\n",
    "    # pop each string from strings\n",
    "    count_list = {}\n",
    "    while strings:\n",
    "        s = strings.pop()\n",
    "        # lower it and count letters            \n",
    "        count = count_char(s)\n",
    "        \n",
    "        # check if it is an anagram and append it to the list if so\n",
    "        found = False\n",
    "        for key in count_list:\n",
    "            if count_list[key] == count:\n",
    "                del count_list[key]\n",
    "                key = key + (s,)\n",
    "                count_list[key] = count\n",
    "                found = True\n",
    "                break\n",
    "        if not found:\n",
    "            count_list[(s,)] = count\n",
    "    \n",
    "    group_an = []\n",
    "    for key in count_list:\n",
    "        group_an.extend(list(key))\n",
    "    \n",
    "    return group_an"
   ]
  },
  {
   "cell_type": "code",
   "execution_count": 57,
   "metadata": {},
   "outputs": [
    {
     "data": {
      "text/plain": [
       "['I am lord voldemort',\n",
       " 'tom elvis jedusor',\n",
       " 'I am the best coder',\n",
       " 'who is the boss',\n",
       " 'harry potter',\n",
       " 'a rana MG',\n",
       " 'nag a ram',\n",
       " 'anagram']"
      ]
     },
     "execution_count": 57,
     "metadata": {},
     "output_type": "execute_result"
    }
   ],
   "source": [
    "strings = ['anagram','nag a ram','harry potter','who is the boss','a rana MG','I am the best coder','tom elvis jedusor','I am lord voldemort']\n",
    "group_anag(strings)"
   ]
  },
  {
   "cell_type": "code",
   "execution_count": 76,
   "metadata": {},
   "outputs": [],
   "source": [
    "### 10.3 Search in Rotated Array\n",
    "\n",
    "# O(logn) runtime - O(1) memory\n",
    "\n",
    "def search_end(array,n,first,last):\n",
    "    mid = first + len(array[first:last])//2\n",
    "    \n",
    "    if n == array[mid]:\n",
    "        return mid\n",
    "\n",
    "        \n",
    "    else:\n",
    "        return search_end(array,n,first,mid)\n",
    "        \n",
    "def search_beg(array,n,first,last):\n",
    "    mid = first + len(array[first:last])//2\n",
    "    \n",
    "    if n == array[mid]:\n",
    "        return mid\n",
    "    \n",
    "    elif n > array[mid]:\n",
    "        return search_beg(array,n,mid,last)\n",
    "    \n",
    "    elif n < array[mid] and array[mid] > array[0]:\n",
    "        return search_beg(array,n,mid,last)\n",
    "    \n",
    "    else:\n",
    "        return search_beg(array,n,first,mid)\n",
    "    \n",
    "def search_rot(array, n):\n",
    "    first = 0\n",
    "    last = len(array) - 1\n",
    "    if n == array[first]:\n",
    "        return 0\n",
    "    elif n > array[first]:\n",
    "        return search_end(array,n,first,last)\n",
    "    else:\n",
    "        return search_beg(array,n,first,last)\n",
    "\n",
    "\n",
    "# Take first element of array ## first = array[0]   i_beg = 0   i_end = len(array)-1\n",
    "# if n=first return 0\n",
    "# if n>first: ## Search end\n",
    "### check mid of array[first:end] ## i_mid = len(array)//2   mid = array[i_mid]\n",
    "### if n>mid:\n",
    "####### repeat for array [mid:end] ## search_end(array,beg=i_mid,end=i_end)\n",
    "####if n<mid:\n",
    "####### repeat for array [first:mid] ## search_end(array,beg=i_first,end=i_mid)\n",
    "# if n<first: ## search_beg keeping first elmt\n",
    "### check mid of array[mid:end] \n",
    "### if n>mid:\n",
    "####### check mid of array[mid:end]\n",
    "### if n<mid and mid>first:\n",
    "####### check mid of array[mid:end]\n",
    "### if n<mid and mid<first:\n",
    "####### check mid of array[first:med]"
   ]
  },
  {
   "cell_type": "code",
   "execution_count": 87,
   "metadata": {},
   "outputs": [
    {
     "name": "stderr",
     "output_type": "stream",
     "text": [
      "ERROR:root:Internal Python error in the inspect module.\n",
      "Below is the traceback from this internal error.\n",
      "\n"
     ]
    },
    {
     "name": "stdout",
     "output_type": "stream",
     "text": [
      "Traceback (most recent call last):\n",
      "  File \"/anaconda3/lib/python3.6/site-packages/IPython/core/interactiveshell.py\", line 3296, in run_code\n",
      "    exec(code_obj, self.user_global_ns, self.user_ns)\n",
      "  File \"<ipython-input-87-53ac6be57a70>\", line 3, in <module>\n",
      "    search_rot(array,14)\n",
      "  File \"<ipython-input-76-e30f9820acdd>\", line 40, in search_rot\n",
      "    return search_beg(array,n,first,last)\n",
      "  File \"<ipython-input-76-e30f9820acdd>\", line 24, in search_beg\n",
      "    return search_beg(array,n,mid,last)\n",
      "  File \"<ipython-input-76-e30f9820acdd>\", line 24, in search_beg\n",
      "    return search_beg(array,n,mid,last)\n",
      "  File \"<ipython-input-76-e30f9820acdd>\", line 24, in search_beg\n",
      "    return search_beg(array,n,mid,last)\n",
      "  [Previous line repeated 2959 more times]\n",
      "  File \"<ipython-input-76-e30f9820acdd>\", line 20, in search_beg\n",
      "    if n == array[mid]:\n",
      "RecursionError: maximum recursion depth exceeded in comparison\n",
      "\n",
      "During handling of the above exception, another exception occurred:\n",
      "\n",
      "Traceback (most recent call last):\n",
      "  File \"/anaconda3/lib/python3.6/site-packages/IPython/core/interactiveshell.py\", line 2033, in showtraceback\n",
      "    stb = value._render_traceback_()\n",
      "AttributeError: 'RecursionError' object has no attribute '_render_traceback_'\n",
      "\n",
      "During handling of the above exception, another exception occurred:\n",
      "\n",
      "Traceback (most recent call last):\n",
      "  File \"/anaconda3/lib/python3.6/site-packages/IPython/core/ultratb.py\", line 1095, in get_records\n",
      "    return _fixed_getinnerframes(etb, number_of_lines_of_context, tb_offset)\n",
      "  File \"/anaconda3/lib/python3.6/site-packages/IPython/core/ultratb.py\", line 313, in wrapped\n",
      "    return f(*args, **kwargs)\n",
      "  File \"/anaconda3/lib/python3.6/site-packages/IPython/core/ultratb.py\", line 347, in _fixed_getinnerframes\n",
      "    records = fix_frame_records_filenames(inspect.getinnerframes(etb, context))\n",
      "  File \"/anaconda3/lib/python3.6/inspect.py\", line 1490, in getinnerframes\n",
      "    frameinfo = (tb.tb_frame,) + getframeinfo(tb, context)\n",
      "  File \"/anaconda3/lib/python3.6/inspect.py\", line 1448, in getframeinfo\n",
      "    filename = getsourcefile(frame) or getfile(frame)\n",
      "  File \"/anaconda3/lib/python3.6/inspect.py\", line 696, in getsourcefile\n",
      "    if getattr(getmodule(object, filename), '__loader__', None) is not None:\n",
      "  File \"/anaconda3/lib/python3.6/inspect.py\", line 733, in getmodule\n",
      "    if ismodule(module) and hasattr(module, '__file__'):\n",
      "  File \"/anaconda3/lib/python3.6/inspect.py\", line 71, in ismodule\n",
      "    return isinstance(object, types.ModuleType)\n",
      "KeyboardInterrupt\n"
     ]
    },
    {
     "ename": "RecursionError",
     "evalue": "maximum recursion depth exceeded in comparison",
     "output_type": "error",
     "traceback": [
      "\u001b[0;31m---------------------------------------------------------------------------\u001b[0m"
     ]
    }
   ],
   "source": [
    "array = [15,16,19,20,25,1,3,4,5,7,10,14]\n",
    "n = 3\n",
    "search_rot(array,14)"
   ]
  },
  {
   "cell_type": "code",
   "execution_count": null,
   "metadata": {},
   "outputs": [],
   "source": []
  }
 ],
 "metadata": {
  "kernelspec": {
   "display_name": "Python 3",
   "language": "python",
   "name": "python3"
  },
  "language_info": {
   "codemirror_mode": {
    "name": "ipython",
    "version": 3
   },
   "file_extension": ".py",
   "mimetype": "text/x-python",
   "name": "python",
   "nbconvert_exporter": "python",
   "pygments_lexer": "ipython3",
   "version": "3.6.8"
  }
 },
 "nbformat": 4,
 "nbformat_minor": 2
}
