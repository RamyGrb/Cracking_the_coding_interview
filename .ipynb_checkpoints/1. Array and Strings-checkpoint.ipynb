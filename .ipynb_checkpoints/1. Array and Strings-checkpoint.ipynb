{
 "cells": [
  {
   "cell_type": "markdown",
   "metadata": {},
   "source": [
    "### 1.1 Is Unique\n",
    "Determine if a string has all unique characters without using additional data structures"
   ]
  },
  {
   "cell_type": "code",
   "execution_count": 98,
   "metadata": {
    "scrolled": true
   },
   "outputs": [],
   "source": [
    "# O(n) runtime - O(1) space\n",
    "\n",
    "def is_unique(string):\n",
    "    \n",
    "    # error unoptimized for better reading\n",
    "    if not isinstance(string,str) and not all([ord(s)<128 for s in string]):\n",
    "        raise TypeError('Not an ASCII string')\n",
    "    \n",
    "    string = [ord(s) for s in string]\n",
    "    test = [False for _ in range(128)]\n",
    "    \n",
    "    for s in string:\n",
    "        if not test[s]:\n",
    "            test[s] = True\n",
    "        else:\n",
    "            return False\n",
    "    \n",
    "    return True"
   ]
  },
  {
   "cell_type": "code",
   "execution_count": 99,
   "metadata": {
    "scrolled": true
   },
   "outputs": [
    {
     "data": {
      "text/plain": [
       "[False, True]"
      ]
     },
     "execution_count": 99,
     "metadata": {},
     "output_type": "execute_result"
    }
   ],
   "source": [
    "[is_unique('aba'),is_unique('abc')]"
   ]
  },
  {
   "cell_type": "markdown",
   "metadata": {},
   "source": [
    "### 1.2 Check Permutation\n",
    "Given two strings, write a method to decide if one is a permutation of the other."
   ]
  },
  {
   "cell_type": "code",
   "execution_count": 100,
   "metadata": {},
   "outputs": [],
   "source": [
    "# O(n) runtime - O(1) space\n",
    "\n",
    "def check_permutation(string1,string2):\n",
    "    \n",
    "    # error unoptimized for better reading\n",
    "    for string in [string1,string2]:\n",
    "        if not isinstance(string,str) and not all([ord(s)<128 for s in string]):\n",
    "            raise TypeError('Not all ASCII strings')\n",
    "            \n",
    "    # special case to reduce runtime\n",
    "    if len(string1) != len(string2):\n",
    "        return False\n",
    "    \n",
    "    count = {}\n",
    "    for s in string1:\n",
    "        if s not in count:\n",
    "            count[s] = 1\n",
    "        else:\n",
    "            count[s] += 1\n",
    "    for s in string2:\n",
    "        if s not in count:\n",
    "            return False\n",
    "        elif count[s] == 1:\n",
    "            del count[s]\n",
    "        else:\n",
    "            count[s] -= 1\n",
    "    \n",
    "    return count == {}"
   ]
  },
  {
   "cell_type": "code",
   "execution_count": 137,
   "metadata": {},
   "outputs": [
    {
     "data": {
      "text/plain": [
       "[True, False]"
      ]
     },
     "execution_count": 137,
     "metadata": {},
     "output_type": "execute_result"
    }
   ],
   "source": [
    "string1 = 'abcdefg'\n",
    "string2 = 'abcefgd'\n",
    "string3 = '1bcdefg'\n",
    "\n",
    "[check_permutation(string1,string2)==True,check_permutation(string1,string3)]"
   ]
  },
  {
   "cell_type": "markdown",
   "metadata": {},
   "source": [
    "### 1.3 URLify\n",
    "Write a method to replace all spaces in a string with ''%20'."
   ]
  },
  {
   "cell_type": "code",
   "execution_count": 133,
   "metadata": {},
   "outputs": [],
   "source": [
    "# O(n) runtime - O(n) space\n",
    "def urlify(string):\n",
    "    \n",
    "    # error unoptimized for better reading\n",
    "    if not isinstance(string,str) and not all([ord(s)<128 for s in string]):\n",
    "        raise TypeError('Not an ASCII string')    \n",
    "    \n",
    "    result = ''\n",
    "    for s in string:\n",
    "        if s == ' ':\n",
    "            result = result + '%20'\n",
    "        else:\n",
    "            result = result + s\n",
    "            \n",
    "    return result"
   ]
  },
  {
   "cell_type": "code",
   "execution_count": 138,
   "metadata": {},
   "outputs": [
    {
     "data": {
      "text/plain": [
       "'Mr%20John%20Smith'"
      ]
     },
     "execution_count": 138,
     "metadata": {},
     "output_type": "execute_result"
    }
   ],
   "source": [
    "string = 'Mr John Smith'\n",
    "\n",
    "urlify(string)"
   ]
  },
  {
   "cell_type": "markdown",
   "metadata": {},
   "source": [
    "### 1.4 Palindrome Permutation\n",
    "Given a string, write a function to check if it is a permutation of a palindrome"
   ]
  },
  {
   "cell_type": "code",
   "execution_count": 160,
   "metadata": {},
   "outputs": [],
   "source": [
    "# O(n) runtime - O(1) space\n",
    "\n",
    "def palindrome(string):\n",
    "    \n",
    "    # error unoptimized for better reading\n",
    "    if not isinstance(string,str) and not all([ord(s)<128 for s in string]):\n",
    "        raise TypeError('Not an ASCII string')\n",
    "        \n",
    "    # special case to reduce runtime\n",
    "    if len(string1) != len(string2):\n",
    "        return False        \n",
    "    \n",
    "    count = {}\n",
    "    imparity_count = 0\n",
    "    \n",
    "    for s in string:\n",
    "        if s not in count:\n",
    "            count[s.lower()] = 1\n",
    "        else:\n",
    "            count[s.lower()] += 1\n",
    "    \n",
    "    for s in count:\n",
    "        if count[s]%2 == 1:\n",
    "            imparity_count += 1\n",
    "            if imparity_count > 1:\n",
    "                return False\n",
    "    \n",
    "    return True"
   ]
  },
  {
   "cell_type": "code",
   "execution_count": 161,
   "metadata": {},
   "outputs": [
    {
     "data": {
      "text/plain": [
       "[True, False]"
      ]
     },
     "execution_count": 161,
     "metadata": {},
     "output_type": "execute_result"
    }
   ],
   "source": [
    "string_true = 'Kyaka'\n",
    "string_false = 'Kyaaka'\n",
    "\n",
    "[palindrome(string),palindrome(string_false)]"
   ]
  },
  {
   "cell_type": "markdown",
   "metadata": {},
   "source": [
    "### 1.5 One Away\n",
    "Given two strings, write a function to check if they are one edit away"
   ]
  },
  {
   "cell_type": "code",
   "execution_count": 167,
   "metadata": {},
   "outputs": [],
   "source": [
    "# O(n) runtime - O(1) memory  \n",
    "\n",
    "def one_away(string1,string2):\n",
    "    \n",
    "    # error unoptimized for better reading\n",
    "    for string in [string1,string2]:\n",
    "        if not isinstance(string,str):\n",
    "            raise TypeError('Not all ASCII strings')\n",
    "    \n",
    "    edit = 0\n",
    "    \n",
    "    if len(string1) == len(string2):\n",
    "    # compare strings and count how many letters are not the same and store them in couples.\n",
    "        for i in range(len(string1)):\n",
    "            if string1[i] != string2[i]:\n",
    "                edit += 1\n",
    "                if edit == 1:                \n",
    "                    couple = (string1[i],string2[i])\n",
    "                elif edit == 2:\n",
    "                    if (string2[i],string1[i]) != couple:\n",
    "                        return False\n",
    "                else:\n",
    "                    return False\n",
    "        return True\n",
    "    \n",
    "    elif len(string1) == len(string2) + 1:   \n",
    "        for i in range(len(string2)):\n",
    "            if string1[i] != string2[i]:\n",
    "                if edit == 0:\n",
    "                    edit += 1\n",
    "                    string1 = string1[1:]\n",
    "                else:\n",
    "                    return False\n",
    "        return True\n",
    "    \n",
    "    elif len(string1) == len(string2) - 1:    \n",
    "        for i in range(len(string1)):\n",
    "            if string1[i] != string2[i]:\n",
    "                if edit == 0:\n",
    "                    edit += 1\n",
    "                    string2 = string2[1:]\n",
    "                else:\n",
    "                    return False\n",
    "        return True\n",
    "    \n",
    "    else:\n",
    "        return False"
   ]
  },
  {
   "cell_type": "code",
   "execution_count": 168,
   "metadata": {},
   "outputs": [
    {
     "data": {
      "text/plain": [
       "[True, True, True, True, False]"
      ]
     },
     "execution_count": 168,
     "metadata": {},
     "output_type": "execute_result"
    }
   ],
   "source": [
    "string1 = 'One edit away'\n",
    "string2 = 'Onee edit away'\n",
    "string3 = 'Oneaedit away'\n",
    "string4 = 'Oen edit away'\n",
    "string5 = 'One edit awayyy'\n",
    "\n",
    "[one_away(string1,s) for s in [string1,string2,string3,string4,string5]]"
   ]
  },
  {
   "cell_type": "markdown",
   "metadata": {},
   "source": [
    "### 1.6 String Compresson\n",
    "Perform basic string compression using the count of repeated characters"
   ]
  },
  {
   "cell_type": "code",
   "execution_count": 207,
   "metadata": {},
   "outputs": [],
   "source": [
    "# O(n) runtime - O(1) memory\n",
    "\n",
    "def compression(string):\n",
    "    \n",
    "    # error unoptimized for better reading\n",
    "    if not isinstance(string,str):\n",
    "        raise TypeError('Not ASCII string')\n",
    "    \n",
    "    count = {string[0]:0}\n",
    "    \n",
    "    for s in string:\n",
    "        if s in count:\n",
    "            count[s] += 1\n",
    "        else:\n",
    "            count[s] = 1\n",
    "    \n",
    "    compressed = []\n",
    "    for s in count:\n",
    "        compressed.append(s)\n",
    "        compressed.append(str(count[s]))\n",
    "        if len(compressed) >= len(string):\n",
    "            return string \n",
    "    \n",
    "    return ''.join(compressed)"
   ]
  },
  {
   "cell_type": "code",
   "execution_count": 208,
   "metadata": {},
   "outputs": [
    {
     "data": {
      "text/plain": [
       "['a5b1c5', 'abcdefghijk']"
      ]
     },
     "execution_count": 208,
     "metadata": {},
     "output_type": "execute_result"
    }
   ],
   "source": [
    "string1 = 'aabcccccaaa'\n",
    "string2 = 'abcdefghijk'\n",
    "\n",
    "[compression(string1),compression(string2)]"
   ]
  },
  {
   "cell_type": "markdown",
   "metadata": {},
   "source": [
    "### 1.7 Rotate Matrix\n",
    "Given an image represented by NxN matrix with 4-bytes pixels, rotate the image by 90 degrees in place."
   ]
  },
  {
   "cell_type": "code",
   "execution_count": 182,
   "metadata": {},
   "outputs": [],
   "source": [
    "# O(n^2) runtime - O(1) space\n",
    "\n",
    "def rotate_matrix(matrix):\n",
    "    \n",
    "    # missing: handling matrix error\n",
    "    \n",
    "    N = len(matrix) - 1\n",
    "    \n",
    "    for i in range(0,N-1):\n",
    "        for j in range(0,N-1):\n",
    "            loop = 0\n",
    "            previous = matrix[i][j]                            \n",
    "            while loop <4:\n",
    "                current = matrix[j][N-i]\n",
    "                matrix[j][N-i] = previous\n",
    "                previous = current\n",
    "                i, j = j, N-i\n",
    "                loop += 1"
   ]
  },
  {
   "cell_type": "code",
   "execution_count": 185,
   "metadata": {},
   "outputs": [
    {
     "data": {
      "text/plain": [
       "[[0, 0, 3, 0], [0, 0, 2, 1], [0, 0, 1, 2], [0, 0, 0, 3]]"
      ]
     },
     "execution_count": 185,
     "metadata": {},
     "output_type": "execute_result"
    }
   ],
   "source": [
    "matrix = [[0,1,2,3],[3,2,1,0],[0,0,0,0],[0,0,0,0]]\n",
    "\n",
    "rotate_matrix(matrix)\n",
    "matrix"
   ]
  },
  {
   "cell_type": "markdown",
   "metadata": {},
   "source": [
    "### 1.8 Zero Matrix\n",
    "If an element in a MxN matrix is 0, set his entire row and column to 0"
   ]
  },
  {
   "cell_type": "code",
   "execution_count": 228,
   "metadata": {},
   "outputs": [],
   "source": [
    "# O(MxN) runtime - O(1) memory\n",
    "\n",
    "def zero_matrix(matrix):\n",
    "    \n",
    "    # missing: handle matrix error\n",
    "        \n",
    "    i = j = 0\n",
    "    M = len(matrix[0])\n",
    "    N = len(matrix)\n",
    "    \n",
    "    for i in range(N):\n",
    "        for j in range(M):\n",
    "            if matrix[i][j] == 0:\n",
    "                matrix[i][0] = 0\n",
    "                matrix[0][j] = 0\n",
    "                        \n",
    "    for i in range(1,N):\n",
    "        for j in range(1,M):\n",
    "            if matrix[i][0] == 0:\n",
    "                matrix[i][j] = 0\n",
    "    \n",
    "    for i in range(1,N):\n",
    "        for j in range(1,M):\n",
    "            if matrix[0][j] == 0:\n",
    "                matrix[i][j] = 0"
   ]
  },
  {
   "cell_type": "code",
   "execution_count": 229,
   "metadata": {},
   "outputs": [
    {
     "data": {
      "text/plain": [
       "[[0, 0, 2, 3], [5, 0, 2, 3], [1, 0, 5, 7], [1, 0, 6, 3]]"
      ]
     },
     "execution_count": 229,
     "metadata": {},
     "output_type": "execute_result"
    }
   ],
   "source": [
    "matrix = [[1,0,2,3],[5,3,2,3],[1,3,5,7],[1,5,6,3]]\n",
    "\n",
    "zero_matrix(matrix)\n",
    "matrix"
   ]
  },
  {
   "cell_type": "markdown",
   "metadata": {},
   "source": [
    "### 1.9 String Rotation\n",
    "Assume we have isSubstring() checking if one word is a substring of another.<br />\n",
    "Check if a string is a rotation of another using only one call to isSubstring"
   ]
  },
  {
   "cell_type": "code",
   "execution_count": 198,
   "metadata": {},
   "outputs": [],
   "source": [
    "def is_rotation(s1,s2):\n",
    "    \n",
    "    # error unoptimized for better reading\n",
    "    for string in [s1,s2]:\n",
    "        if not isinstance(string,str):\n",
    "            raise TypeError('Not all ASCII strings')    \n",
    "    \n",
    "    s2 += s2\n",
    "    return isSubstring(s1,s2)\n",
    "\n",
    "def isSubstring(s1,s2):\n",
    "    \n",
    "    # error unoptimized for better reading\n",
    "    for string in [s1,s2]:\n",
    "        if not isinstance(string,str):\n",
    "            raise TypeError('Not all ASCII strings')    \n",
    "    \n",
    "    if s1 in s2:\n",
    "        return True\n",
    "    return False"
   ]
  },
  {
   "cell_type": "code",
   "execution_count": 199,
   "metadata": {},
   "outputs": [
    {
     "data": {
      "text/plain": [
       "True"
      ]
     },
     "execution_count": 199,
     "metadata": {},
     "output_type": "execute_result"
    }
   ],
   "source": [
    "string1 = 'waterbottle'\n",
    "string2 = 'erbottlewat'\n",
    "\n",
    "is_rotation(string1,string2)"
   ]
  }
 ],
 "metadata": {
  "kernelspec": {
   "display_name": "Python 3",
   "language": "python",
   "name": "python3"
  },
  "language_info": {
   "codemirror_mode": {
    "name": "ipython",
    "version": 3
   },
   "file_extension": ".py",
   "mimetype": "text/x-python",
   "name": "python",
   "nbconvert_exporter": "python",
   "pygments_lexer": "ipython3",
   "version": "3.6.8"
  }
 },
 "nbformat": 4,
 "nbformat_minor": 2
}
